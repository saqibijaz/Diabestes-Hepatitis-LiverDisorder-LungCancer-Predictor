{
  "nbformat": 4,
  "nbformat_minor": 0,
  "metadata": {
    "colab": {
      "name": "Data Mining Project",
      "provenance": [],
      "collapsed_sections": [
        "Omvb_bJvflSO",
        "cVwSK2uCOGOj",
        "3a6QJOZCOKah",
        "TayvzRAtx5Bp",
        "2lUusDlF722z",
        "Lu6P-cQT1Ym2",
        "gkH3cxRrx87M",
        "jpjmzFBAyBhR",
        "3mqcBDFZ08r5",
        "qRbMm22E1Ccw",
        "kwAI4Hab1d9M",
        "AwkbM_aM4r-2"
      ]
    },
    "kernelspec": {
      "name": "python3",
      "display_name": "Python 3"
    }
  },
  "cells": [
    {
      "cell_type": "code",
      "metadata": {
        "id": "R2Nc4SZmawBM"
      },
      "source": [
        "import numpy as np\n",
        "import pandas as pd\n",
        "from sklearn.metrics import f1_score\n",
        "from sklearn.model_selection import train_test_split\n",
        "from numpy import nan\n",
        "import scipy.stats\n",
        "import math\n",
        "import scipy as sp\n",
        "from sklearn.feature_selection import RFE\n",
        "from sklearn.linear_model import RidgeCV, LassoCV, Ridge, Lasso\n",
        "from sklearn.impute import SimpleImputer\n",
        "from sklearn.model_selection import train_test_split\n",
        "import matplotlib\n",
        "import matplotlib.pyplot as plt\n",
        "import seaborn as sn\n",
        "import matplotlib.pyplot as plt\n"
      ],
      "execution_count": null,
      "outputs": []
    },
    {
      "cell_type": "code",
      "metadata": {
        "id": "IBRpwkahM7wj",
        "colab": {
          "base_uri": "https://localhost:8080/",
          "height": 453
        },
        "outputId": "ea506abc-3b8d-415e-ae67-a6d78810bbee"
      },
      "source": [
        "data_diabetes=pd.read_csv('diabetes-data.txt',header=None)\n",
        "data_hepatitis=pd.read_csv('hepatitis-data.txt',header=None)\n",
        "data_liver=pd.read_csv('liver_disorder_data.txt',header=None)\n",
        "data_lung=pd.read_csv('lung_cancer_data.txt',header=None)\n"
      ],
      "execution_count": null,
      "outputs": [
        {
          "output_type": "error",
          "ename": "FileNotFoundError",
          "evalue": "ignored",
          "traceback": [
            "\u001b[0;31m---------------------------------------------------------------------------\u001b[0m",
            "\u001b[0;31mFileNotFoundError\u001b[0m                         Traceback (most recent call last)",
            "\u001b[0;32m<ipython-input-5-d9547bada98a>\u001b[0m in \u001b[0;36m<module>\u001b[0;34m()\u001b[0m\n\u001b[0;32m----> 1\u001b[0;31m \u001b[0mdata_diabetes\u001b[0m\u001b[0;34m=\u001b[0m\u001b[0mpd\u001b[0m\u001b[0;34m.\u001b[0m\u001b[0mread_csv\u001b[0m\u001b[0;34m(\u001b[0m\u001b[0;34m'diabetes-data.txt'\u001b[0m\u001b[0;34m,\u001b[0m\u001b[0mheader\u001b[0m\u001b[0;34m=\u001b[0m\u001b[0;32mNone\u001b[0m\u001b[0;34m)\u001b[0m\u001b[0;34m\u001b[0m\u001b[0;34m\u001b[0m\u001b[0m\n\u001b[0m\u001b[1;32m      2\u001b[0m \u001b[0mdata_hepatitis\u001b[0m\u001b[0;34m=\u001b[0m\u001b[0mpd\u001b[0m\u001b[0;34m.\u001b[0m\u001b[0mread_csv\u001b[0m\u001b[0;34m(\u001b[0m\u001b[0;34m'hepatitis-data.txt'\u001b[0m\u001b[0;34m,\u001b[0m\u001b[0mheader\u001b[0m\u001b[0;34m=\u001b[0m\u001b[0;32mNone\u001b[0m\u001b[0;34m)\u001b[0m\u001b[0;34m\u001b[0m\u001b[0;34m\u001b[0m\u001b[0m\n\u001b[1;32m      3\u001b[0m \u001b[0mdata_liver\u001b[0m\u001b[0;34m=\u001b[0m\u001b[0mpd\u001b[0m\u001b[0;34m.\u001b[0m\u001b[0mread_csv\u001b[0m\u001b[0;34m(\u001b[0m\u001b[0;34m'liver_disorder_data.txt'\u001b[0m\u001b[0;34m,\u001b[0m\u001b[0mheader\u001b[0m\u001b[0;34m=\u001b[0m\u001b[0;32mNone\u001b[0m\u001b[0;34m)\u001b[0m\u001b[0;34m\u001b[0m\u001b[0;34m\u001b[0m\u001b[0m\n\u001b[1;32m      4\u001b[0m \u001b[0mdata_lung\u001b[0m\u001b[0;34m=\u001b[0m\u001b[0mpd\u001b[0m\u001b[0;34m.\u001b[0m\u001b[0mread_csv\u001b[0m\u001b[0;34m(\u001b[0m\u001b[0;34m'lung_cancer_data.txt'\u001b[0m\u001b[0;34m,\u001b[0m\u001b[0mheader\u001b[0m\u001b[0;34m=\u001b[0m\u001b[0;32mNone\u001b[0m\u001b[0;34m)\u001b[0m\u001b[0;34m\u001b[0m\u001b[0;34m\u001b[0m\u001b[0m\n",
            "\u001b[0;32m/usr/local/lib/python3.7/dist-packages/pandas/io/parsers.py\u001b[0m in \u001b[0;36mread_csv\u001b[0;34m(filepath_or_buffer, sep, delimiter, header, names, index_col, usecols, squeeze, prefix, mangle_dupe_cols, dtype, engine, converters, true_values, false_values, skipinitialspace, skiprows, skipfooter, nrows, na_values, keep_default_na, na_filter, verbose, skip_blank_lines, parse_dates, infer_datetime_format, keep_date_col, date_parser, dayfirst, cache_dates, iterator, chunksize, compression, thousands, decimal, lineterminator, quotechar, quoting, doublequote, escapechar, comment, encoding, dialect, error_bad_lines, warn_bad_lines, delim_whitespace, low_memory, memory_map, float_precision)\u001b[0m\n\u001b[1;32m    686\u001b[0m     )\n\u001b[1;32m    687\u001b[0m \u001b[0;34m\u001b[0m\u001b[0m\n\u001b[0;32m--> 688\u001b[0;31m     \u001b[0;32mreturn\u001b[0m \u001b[0m_read\u001b[0m\u001b[0;34m(\u001b[0m\u001b[0mfilepath_or_buffer\u001b[0m\u001b[0;34m,\u001b[0m \u001b[0mkwds\u001b[0m\u001b[0;34m)\u001b[0m\u001b[0;34m\u001b[0m\u001b[0;34m\u001b[0m\u001b[0m\n\u001b[0m\u001b[1;32m    689\u001b[0m \u001b[0;34m\u001b[0m\u001b[0m\n\u001b[1;32m    690\u001b[0m \u001b[0;34m\u001b[0m\u001b[0m\n",
            "\u001b[0;32m/usr/local/lib/python3.7/dist-packages/pandas/io/parsers.py\u001b[0m in \u001b[0;36m_read\u001b[0;34m(filepath_or_buffer, kwds)\u001b[0m\n\u001b[1;32m    452\u001b[0m \u001b[0;34m\u001b[0m\u001b[0m\n\u001b[1;32m    453\u001b[0m     \u001b[0;31m# Create the parser.\u001b[0m\u001b[0;34m\u001b[0m\u001b[0;34m\u001b[0m\u001b[0;34m\u001b[0m\u001b[0m\n\u001b[0;32m--> 454\u001b[0;31m     \u001b[0mparser\u001b[0m \u001b[0;34m=\u001b[0m \u001b[0mTextFileReader\u001b[0m\u001b[0;34m(\u001b[0m\u001b[0mfp_or_buf\u001b[0m\u001b[0;34m,\u001b[0m \u001b[0;34m**\u001b[0m\u001b[0mkwds\u001b[0m\u001b[0;34m)\u001b[0m\u001b[0;34m\u001b[0m\u001b[0;34m\u001b[0m\u001b[0m\n\u001b[0m\u001b[1;32m    455\u001b[0m \u001b[0;34m\u001b[0m\u001b[0m\n\u001b[1;32m    456\u001b[0m     \u001b[0;32mif\u001b[0m \u001b[0mchunksize\u001b[0m \u001b[0;32mor\u001b[0m \u001b[0miterator\u001b[0m\u001b[0;34m:\u001b[0m\u001b[0;34m\u001b[0m\u001b[0;34m\u001b[0m\u001b[0m\n",
            "\u001b[0;32m/usr/local/lib/python3.7/dist-packages/pandas/io/parsers.py\u001b[0m in \u001b[0;36m__init__\u001b[0;34m(self, f, engine, **kwds)\u001b[0m\n\u001b[1;32m    946\u001b[0m             \u001b[0mself\u001b[0m\u001b[0;34m.\u001b[0m\u001b[0moptions\u001b[0m\u001b[0;34m[\u001b[0m\u001b[0;34m\"has_index_names\"\u001b[0m\u001b[0;34m]\u001b[0m \u001b[0;34m=\u001b[0m \u001b[0mkwds\u001b[0m\u001b[0;34m[\u001b[0m\u001b[0;34m\"has_index_names\"\u001b[0m\u001b[0;34m]\u001b[0m\u001b[0;34m\u001b[0m\u001b[0;34m\u001b[0m\u001b[0m\n\u001b[1;32m    947\u001b[0m \u001b[0;34m\u001b[0m\u001b[0m\n\u001b[0;32m--> 948\u001b[0;31m         \u001b[0mself\u001b[0m\u001b[0;34m.\u001b[0m\u001b[0m_make_engine\u001b[0m\u001b[0;34m(\u001b[0m\u001b[0mself\u001b[0m\u001b[0;34m.\u001b[0m\u001b[0mengine\u001b[0m\u001b[0;34m)\u001b[0m\u001b[0;34m\u001b[0m\u001b[0;34m\u001b[0m\u001b[0m\n\u001b[0m\u001b[1;32m    949\u001b[0m \u001b[0;34m\u001b[0m\u001b[0m\n\u001b[1;32m    950\u001b[0m     \u001b[0;32mdef\u001b[0m \u001b[0mclose\u001b[0m\u001b[0;34m(\u001b[0m\u001b[0mself\u001b[0m\u001b[0;34m)\u001b[0m\u001b[0;34m:\u001b[0m\u001b[0;34m\u001b[0m\u001b[0;34m\u001b[0m\u001b[0m\n",
            "\u001b[0;32m/usr/local/lib/python3.7/dist-packages/pandas/io/parsers.py\u001b[0m in \u001b[0;36m_make_engine\u001b[0;34m(self, engine)\u001b[0m\n\u001b[1;32m   1178\u001b[0m     \u001b[0;32mdef\u001b[0m \u001b[0m_make_engine\u001b[0m\u001b[0;34m(\u001b[0m\u001b[0mself\u001b[0m\u001b[0;34m,\u001b[0m \u001b[0mengine\u001b[0m\u001b[0;34m=\u001b[0m\u001b[0;34m\"c\"\u001b[0m\u001b[0;34m)\u001b[0m\u001b[0;34m:\u001b[0m\u001b[0;34m\u001b[0m\u001b[0;34m\u001b[0m\u001b[0m\n\u001b[1;32m   1179\u001b[0m         \u001b[0;32mif\u001b[0m \u001b[0mengine\u001b[0m \u001b[0;34m==\u001b[0m \u001b[0;34m\"c\"\u001b[0m\u001b[0;34m:\u001b[0m\u001b[0;34m\u001b[0m\u001b[0;34m\u001b[0m\u001b[0m\n\u001b[0;32m-> 1180\u001b[0;31m             \u001b[0mself\u001b[0m\u001b[0;34m.\u001b[0m\u001b[0m_engine\u001b[0m \u001b[0;34m=\u001b[0m \u001b[0mCParserWrapper\u001b[0m\u001b[0;34m(\u001b[0m\u001b[0mself\u001b[0m\u001b[0;34m.\u001b[0m\u001b[0mf\u001b[0m\u001b[0;34m,\u001b[0m \u001b[0;34m**\u001b[0m\u001b[0mself\u001b[0m\u001b[0;34m.\u001b[0m\u001b[0moptions\u001b[0m\u001b[0;34m)\u001b[0m\u001b[0;34m\u001b[0m\u001b[0;34m\u001b[0m\u001b[0m\n\u001b[0m\u001b[1;32m   1181\u001b[0m         \u001b[0;32melse\u001b[0m\u001b[0;34m:\u001b[0m\u001b[0;34m\u001b[0m\u001b[0;34m\u001b[0m\u001b[0m\n\u001b[1;32m   1182\u001b[0m             \u001b[0;32mif\u001b[0m \u001b[0mengine\u001b[0m \u001b[0;34m==\u001b[0m \u001b[0;34m\"python\"\u001b[0m\u001b[0;34m:\u001b[0m\u001b[0;34m\u001b[0m\u001b[0;34m\u001b[0m\u001b[0m\n",
            "\u001b[0;32m/usr/local/lib/python3.7/dist-packages/pandas/io/parsers.py\u001b[0m in \u001b[0;36m__init__\u001b[0;34m(self, src, **kwds)\u001b[0m\n\u001b[1;32m   2008\u001b[0m         \u001b[0mkwds\u001b[0m\u001b[0;34m[\u001b[0m\u001b[0;34m\"usecols\"\u001b[0m\u001b[0;34m]\u001b[0m \u001b[0;34m=\u001b[0m \u001b[0mself\u001b[0m\u001b[0;34m.\u001b[0m\u001b[0musecols\u001b[0m\u001b[0;34m\u001b[0m\u001b[0;34m\u001b[0m\u001b[0m\n\u001b[1;32m   2009\u001b[0m \u001b[0;34m\u001b[0m\u001b[0m\n\u001b[0;32m-> 2010\u001b[0;31m         \u001b[0mself\u001b[0m\u001b[0;34m.\u001b[0m\u001b[0m_reader\u001b[0m \u001b[0;34m=\u001b[0m \u001b[0mparsers\u001b[0m\u001b[0;34m.\u001b[0m\u001b[0mTextReader\u001b[0m\u001b[0;34m(\u001b[0m\u001b[0msrc\u001b[0m\u001b[0;34m,\u001b[0m \u001b[0;34m**\u001b[0m\u001b[0mkwds\u001b[0m\u001b[0;34m)\u001b[0m\u001b[0;34m\u001b[0m\u001b[0;34m\u001b[0m\u001b[0m\n\u001b[0m\u001b[1;32m   2011\u001b[0m         \u001b[0mself\u001b[0m\u001b[0;34m.\u001b[0m\u001b[0munnamed_cols\u001b[0m \u001b[0;34m=\u001b[0m \u001b[0mself\u001b[0m\u001b[0;34m.\u001b[0m\u001b[0m_reader\u001b[0m\u001b[0;34m.\u001b[0m\u001b[0munnamed_cols\u001b[0m\u001b[0;34m\u001b[0m\u001b[0;34m\u001b[0m\u001b[0m\n\u001b[1;32m   2012\u001b[0m \u001b[0;34m\u001b[0m\u001b[0m\n",
            "\u001b[0;32mpandas/_libs/parsers.pyx\u001b[0m in \u001b[0;36mpandas._libs.parsers.TextReader.__cinit__\u001b[0;34m()\u001b[0m\n",
            "\u001b[0;32mpandas/_libs/parsers.pyx\u001b[0m in \u001b[0;36mpandas._libs.parsers.TextReader._setup_parser_source\u001b[0;34m()\u001b[0m\n",
            "\u001b[0;31mFileNotFoundError\u001b[0m: [Errno 2] No such file or directory: 'diabetes-data.txt'"
          ]
        }
      ]
    },
    {
      "cell_type": "code",
      "metadata": {
        "colab": {
          "base_uri": "https://localhost:8080/",
          "height": 215
        },
        "id": "desxfQMzNJ3s",
        "outputId": "7319cf23-4399-4b77-fb9f-181db71ee391"
      },
      "source": [
        "data_lung.head()"
      ],
      "execution_count": null,
      "outputs": [
        {
          "output_type": "execute_result",
          "data": {
            "text/html": [
              "<div>\n",
              "<style scoped>\n",
              "    .dataframe tbody tr th:only-of-type {\n",
              "        vertical-align: middle;\n",
              "    }\n",
              "\n",
              "    .dataframe tbody tr th {\n",
              "        vertical-align: top;\n",
              "    }\n",
              "\n",
              "    .dataframe thead th {\n",
              "        text-align: right;\n",
              "    }\n",
              "</style>\n",
              "<table border=\"1\" class=\"dataframe\">\n",
              "  <thead>\n",
              "    <tr style=\"text-align: right;\">\n",
              "      <th></th>\n",
              "      <th>0</th>\n",
              "      <th>1</th>\n",
              "      <th>2</th>\n",
              "      <th>3</th>\n",
              "      <th>4</th>\n",
              "      <th>5</th>\n",
              "      <th>6</th>\n",
              "      <th>7</th>\n",
              "      <th>8</th>\n",
              "      <th>9</th>\n",
              "      <th>10</th>\n",
              "      <th>11</th>\n",
              "      <th>12</th>\n",
              "      <th>13</th>\n",
              "      <th>14</th>\n",
              "      <th>15</th>\n",
              "      <th>16</th>\n",
              "      <th>17</th>\n",
              "      <th>18</th>\n",
              "      <th>19</th>\n",
              "      <th>20</th>\n",
              "      <th>21</th>\n",
              "      <th>22</th>\n",
              "      <th>23</th>\n",
              "      <th>24</th>\n",
              "      <th>25</th>\n",
              "      <th>26</th>\n",
              "      <th>27</th>\n",
              "      <th>28</th>\n",
              "      <th>29</th>\n",
              "      <th>30</th>\n",
              "      <th>31</th>\n",
              "      <th>32</th>\n",
              "      <th>33</th>\n",
              "      <th>34</th>\n",
              "      <th>35</th>\n",
              "      <th>36</th>\n",
              "      <th>37</th>\n",
              "      <th>38</th>\n",
              "      <th>39</th>\n",
              "      <th>40</th>\n",
              "      <th>41</th>\n",
              "      <th>42</th>\n",
              "      <th>43</th>\n",
              "      <th>44</th>\n",
              "      <th>45</th>\n",
              "      <th>46</th>\n",
              "      <th>47</th>\n",
              "      <th>48</th>\n",
              "      <th>49</th>\n",
              "      <th>50</th>\n",
              "      <th>51</th>\n",
              "      <th>52</th>\n",
              "      <th>53</th>\n",
              "      <th>54</th>\n",
              "      <th>55</th>\n",
              "      <th>56</th>\n",
              "    </tr>\n",
              "  </thead>\n",
              "  <tbody>\n",
              "    <tr>\n",
              "      <th>0</th>\n",
              "      <td>1</td>\n",
              "      <td>0</td>\n",
              "      <td>3</td>\n",
              "      <td>0</td>\n",
              "      <td>?</td>\n",
              "      <td>0</td>\n",
              "      <td>2</td>\n",
              "      <td>2</td>\n",
              "      <td>2</td>\n",
              "      <td>1</td>\n",
              "      <td>1</td>\n",
              "      <td>1</td>\n",
              "      <td>1</td>\n",
              "      <td>3</td>\n",
              "      <td>2</td>\n",
              "      <td>2</td>\n",
              "      <td>1</td>\n",
              "      <td>2</td>\n",
              "      <td>2</td>\n",
              "      <td>0</td>\n",
              "      <td>2</td>\n",
              "      <td>2</td>\n",
              "      <td>2</td>\n",
              "      <td>2</td>\n",
              "      <td>1</td>\n",
              "      <td>2</td>\n",
              "      <td>2</td>\n",
              "      <td>2</td>\n",
              "      <td>3</td>\n",
              "      <td>2</td>\n",
              "      <td>1</td>\n",
              "      <td>1</td>\n",
              "      <td>1</td>\n",
              "      <td>3</td>\n",
              "      <td>3</td>\n",
              "      <td>2</td>\n",
              "      <td>2</td>\n",
              "      <td>1</td>\n",
              "      <td>2</td>\n",
              "      <td>2</td>\n",
              "      <td>2</td>\n",
              "      <td>1</td>\n",
              "      <td>2</td>\n",
              "      <td>2</td>\n",
              "      <td>2</td>\n",
              "      <td>2</td>\n",
              "      <td>2</td>\n",
              "      <td>2</td>\n",
              "      <td>2</td>\n",
              "      <td>2</td>\n",
              "      <td>2</td>\n",
              "      <td>2</td>\n",
              "      <td>1</td>\n",
              "      <td>1</td>\n",
              "      <td>1</td>\n",
              "      <td>2</td>\n",
              "      <td>2</td>\n",
              "    </tr>\n",
              "    <tr>\n",
              "      <th>1</th>\n",
              "      <td>1</td>\n",
              "      <td>0</td>\n",
              "      <td>3</td>\n",
              "      <td>3</td>\n",
              "      <td>1</td>\n",
              "      <td>0</td>\n",
              "      <td>3</td>\n",
              "      <td>1</td>\n",
              "      <td>3</td>\n",
              "      <td>1</td>\n",
              "      <td>1</td>\n",
              "      <td>1</td>\n",
              "      <td>1</td>\n",
              "      <td>1</td>\n",
              "      <td>3</td>\n",
              "      <td>3</td>\n",
              "      <td>1</td>\n",
              "      <td>2</td>\n",
              "      <td>2</td>\n",
              "      <td>0</td>\n",
              "      <td>0</td>\n",
              "      <td>2</td>\n",
              "      <td>2</td>\n",
              "      <td>2</td>\n",
              "      <td>1</td>\n",
              "      <td>2</td>\n",
              "      <td>1</td>\n",
              "      <td>3</td>\n",
              "      <td>2</td>\n",
              "      <td>3</td>\n",
              "      <td>1</td>\n",
              "      <td>1</td>\n",
              "      <td>1</td>\n",
              "      <td>3</td>\n",
              "      <td>3</td>\n",
              "      <td>2</td>\n",
              "      <td>2</td>\n",
              "      <td>2</td>\n",
              "      <td>1</td>\n",
              "      <td>2</td>\n",
              "      <td>2</td>\n",
              "      <td>?</td>\n",
              "      <td>1</td>\n",
              "      <td>2</td>\n",
              "      <td>2</td>\n",
              "      <td>1</td>\n",
              "      <td>2</td>\n",
              "      <td>2</td>\n",
              "      <td>2</td>\n",
              "      <td>2</td>\n",
              "      <td>2</td>\n",
              "      <td>2</td>\n",
              "      <td>2</td>\n",
              "      <td>2</td>\n",
              "      <td>1</td>\n",
              "      <td>2</td>\n",
              "      <td>2</td>\n",
              "    </tr>\n",
              "    <tr>\n",
              "      <th>2</th>\n",
              "      <td>1</td>\n",
              "      <td>0</td>\n",
              "      <td>3</td>\n",
              "      <td>3</td>\n",
              "      <td>2</td>\n",
              "      <td>0</td>\n",
              "      <td>3</td>\n",
              "      <td>3</td>\n",
              "      <td>3</td>\n",
              "      <td>1</td>\n",
              "      <td>1</td>\n",
              "      <td>1</td>\n",
              "      <td>0</td>\n",
              "      <td>3</td>\n",
              "      <td>3</td>\n",
              "      <td>3</td>\n",
              "      <td>1</td>\n",
              "      <td>2</td>\n",
              "      <td>1</td>\n",
              "      <td>0</td>\n",
              "      <td>0</td>\n",
              "      <td>2</td>\n",
              "      <td>2</td>\n",
              "      <td>2</td>\n",
              "      <td>1</td>\n",
              "      <td>2</td>\n",
              "      <td>2</td>\n",
              "      <td>3</td>\n",
              "      <td>2</td>\n",
              "      <td>3</td>\n",
              "      <td>1</td>\n",
              "      <td>3</td>\n",
              "      <td>3</td>\n",
              "      <td>3</td>\n",
              "      <td>1</td>\n",
              "      <td>2</td>\n",
              "      <td>2</td>\n",
              "      <td>1</td>\n",
              "      <td>2</td>\n",
              "      <td>2</td>\n",
              "      <td>2</td>\n",
              "      <td>1</td>\n",
              "      <td>2</td>\n",
              "      <td>2</td>\n",
              "      <td>1</td>\n",
              "      <td>2</td>\n",
              "      <td>2</td>\n",
              "      <td>2</td>\n",
              "      <td>2</td>\n",
              "      <td>2</td>\n",
              "      <td>2</td>\n",
              "      <td>2</td>\n",
              "      <td>2</td>\n",
              "      <td>2</td>\n",
              "      <td>2</td>\n",
              "      <td>1</td>\n",
              "      <td>2</td>\n",
              "    </tr>\n",
              "    <tr>\n",
              "      <th>3</th>\n",
              "      <td>1</td>\n",
              "      <td>0</td>\n",
              "      <td>2</td>\n",
              "      <td>3</td>\n",
              "      <td>2</td>\n",
              "      <td>1</td>\n",
              "      <td>3</td>\n",
              "      <td>3</td>\n",
              "      <td>3</td>\n",
              "      <td>1</td>\n",
              "      <td>2</td>\n",
              "      <td>1</td>\n",
              "      <td>0</td>\n",
              "      <td>3</td>\n",
              "      <td>3</td>\n",
              "      <td>1</td>\n",
              "      <td>1</td>\n",
              "      <td>2</td>\n",
              "      <td>2</td>\n",
              "      <td>0</td>\n",
              "      <td>0</td>\n",
              "      <td>2</td>\n",
              "      <td>2</td>\n",
              "      <td>2</td>\n",
              "      <td>2</td>\n",
              "      <td>1</td>\n",
              "      <td>3</td>\n",
              "      <td>2</td>\n",
              "      <td>3</td>\n",
              "      <td>3</td>\n",
              "      <td>1</td>\n",
              "      <td>3</td>\n",
              "      <td>3</td>\n",
              "      <td>3</td>\n",
              "      <td>1</td>\n",
              "      <td>1</td>\n",
              "      <td>1</td>\n",
              "      <td>1</td>\n",
              "      <td>2</td>\n",
              "      <td>2</td>\n",
              "      <td>2</td>\n",
              "      <td>2</td>\n",
              "      <td>1</td>\n",
              "      <td>2</td>\n",
              "      <td>2</td>\n",
              "      <td>2</td>\n",
              "      <td>1</td>\n",
              "      <td>2</td>\n",
              "      <td>2</td>\n",
              "      <td>2</td>\n",
              "      <td>2</td>\n",
              "      <td>2</td>\n",
              "      <td>2</td>\n",
              "      <td>2</td>\n",
              "      <td>2</td>\n",
              "      <td>2</td>\n",
              "      <td>2</td>\n",
              "    </tr>\n",
              "    <tr>\n",
              "      <th>4</th>\n",
              "      <td>1</td>\n",
              "      <td>0</td>\n",
              "      <td>3</td>\n",
              "      <td>2</td>\n",
              "      <td>1</td>\n",
              "      <td>1</td>\n",
              "      <td>3</td>\n",
              "      <td>3</td>\n",
              "      <td>3</td>\n",
              "      <td>2</td>\n",
              "      <td>2</td>\n",
              "      <td>2</td>\n",
              "      <td>1</td>\n",
              "      <td>1</td>\n",
              "      <td>2</td>\n",
              "      <td>2</td>\n",
              "      <td>2</td>\n",
              "      <td>2</td>\n",
              "      <td>2</td>\n",
              "      <td>0</td>\n",
              "      <td>0</td>\n",
              "      <td>2</td>\n",
              "      <td>2</td>\n",
              "      <td>2</td>\n",
              "      <td>1</td>\n",
              "      <td>1</td>\n",
              "      <td>2</td>\n",
              "      <td>3</td>\n",
              "      <td>2</td>\n",
              "      <td>2</td>\n",
              "      <td>1</td>\n",
              "      <td>1</td>\n",
              "      <td>1</td>\n",
              "      <td>3</td>\n",
              "      <td>2</td>\n",
              "      <td>1</td>\n",
              "      <td>2</td>\n",
              "      <td>2</td>\n",
              "      <td>1</td>\n",
              "      <td>2</td>\n",
              "      <td>2</td>\n",
              "      <td>2</td>\n",
              "      <td>1</td>\n",
              "      <td>2</td>\n",
              "      <td>2</td>\n",
              "      <td>2</td>\n",
              "      <td>2</td>\n",
              "      <td>2</td>\n",
              "      <td>2</td>\n",
              "      <td>2</td>\n",
              "      <td>2</td>\n",
              "      <td>2</td>\n",
              "      <td>2</td>\n",
              "      <td>2</td>\n",
              "      <td>1</td>\n",
              "      <td>2</td>\n",
              "      <td>2</td>\n",
              "    </tr>\n",
              "  </tbody>\n",
              "</table>\n",
              "</div>"
            ],
            "text/plain": [
              "   0  1   2   3  4  5   6   7   8   9   ...  47 48  49  50  51  52  53  54  55  56\n",
              "0   1  0   3   0  ?  0   2   2   2   1  ...   2  2   2   2   2   1   1   1   2   2\n",
              "1   1  0   3   3  1  0   3   1   3   1  ...   2  2   2   2   2   2   2   1   2   2\n",
              "2   1  0   3   3  2  0   3   3   3   1  ...   2  2   2   2   2   2   2   2   1   2\n",
              "3   1  0   2   3  2  1   3   3   3   1  ...   2  2   2   2   2   2   2   2   2   2\n",
              "4   1  0   3   2  1  1   3   3   3   2  ...   2  2   2   2   2   2   2   1   2   2\n",
              "\n",
              "[5 rows x 57 columns]"
            ]
          },
          "metadata": {
            "tags": []
          },
          "execution_count": 675
        }
      ]
    },
    {
      "cell_type": "code",
      "metadata": {
        "colab": {
          "base_uri": "https://localhost:8080/",
          "height": 402
        },
        "id": "svwubc-ZOF-G",
        "outputId": "d8d011e1-eb3f-4bc9-d419-a5a4e30b7c68"
      },
      "source": [
        "data_diabetes"
      ],
      "execution_count": null,
      "outputs": [
        {
          "output_type": "execute_result",
          "data": {
            "text/html": [
              "<div>\n",
              "<style scoped>\n",
              "    .dataframe tbody tr th:only-of-type {\n",
              "        vertical-align: middle;\n",
              "    }\n",
              "\n",
              "    .dataframe tbody tr th {\n",
              "        vertical-align: top;\n",
              "    }\n",
              "\n",
              "    .dataframe thead th {\n",
              "        text-align: right;\n",
              "    }\n",
              "</style>\n",
              "<table border=\"1\" class=\"dataframe\">\n",
              "  <thead>\n",
              "    <tr style=\"text-align: right;\">\n",
              "      <th></th>\n",
              "      <th>0</th>\n",
              "      <th>1</th>\n",
              "      <th>2</th>\n",
              "      <th>3</th>\n",
              "      <th>4</th>\n",
              "      <th>5</th>\n",
              "      <th>6</th>\n",
              "      <th>7</th>\n",
              "      <th>8</th>\n",
              "    </tr>\n",
              "  </thead>\n",
              "  <tbody>\n",
              "    <tr>\n",
              "      <th>0</th>\n",
              "      <td>6</td>\n",
              "      <td>148</td>\n",
              "      <td>72</td>\n",
              "      <td>35</td>\n",
              "      <td>0</td>\n",
              "      <td>33.6</td>\n",
              "      <td>0.627</td>\n",
              "      <td>50</td>\n",
              "      <td>1</td>\n",
              "    </tr>\n",
              "    <tr>\n",
              "      <th>1</th>\n",
              "      <td>1</td>\n",
              "      <td>85</td>\n",
              "      <td>66</td>\n",
              "      <td>29</td>\n",
              "      <td>0</td>\n",
              "      <td>26.6</td>\n",
              "      <td>0.351</td>\n",
              "      <td>31</td>\n",
              "      <td>0</td>\n",
              "    </tr>\n",
              "    <tr>\n",
              "      <th>2</th>\n",
              "      <td>8</td>\n",
              "      <td>183</td>\n",
              "      <td>64</td>\n",
              "      <td>0</td>\n",
              "      <td>0</td>\n",
              "      <td>23.3</td>\n",
              "      <td>0.672</td>\n",
              "      <td>32</td>\n",
              "      <td>1</td>\n",
              "    </tr>\n",
              "    <tr>\n",
              "      <th>3</th>\n",
              "      <td>1</td>\n",
              "      <td>89</td>\n",
              "      <td>66</td>\n",
              "      <td>23</td>\n",
              "      <td>94</td>\n",
              "      <td>28.1</td>\n",
              "      <td>0.167</td>\n",
              "      <td>21</td>\n",
              "      <td>0</td>\n",
              "    </tr>\n",
              "    <tr>\n",
              "      <th>4</th>\n",
              "      <td>0</td>\n",
              "      <td>137</td>\n",
              "      <td>40</td>\n",
              "      <td>35</td>\n",
              "      <td>168</td>\n",
              "      <td>43.1</td>\n",
              "      <td>2.288</td>\n",
              "      <td>33</td>\n",
              "      <td>1</td>\n",
              "    </tr>\n",
              "    <tr>\n",
              "      <th>...</th>\n",
              "      <td>...</td>\n",
              "      <td>...</td>\n",
              "      <td>...</td>\n",
              "      <td>...</td>\n",
              "      <td>...</td>\n",
              "      <td>...</td>\n",
              "      <td>...</td>\n",
              "      <td>...</td>\n",
              "      <td>...</td>\n",
              "    </tr>\n",
              "    <tr>\n",
              "      <th>763</th>\n",
              "      <td>10</td>\n",
              "      <td>101</td>\n",
              "      <td>76</td>\n",
              "      <td>48</td>\n",
              "      <td>180</td>\n",
              "      <td>32.9</td>\n",
              "      <td>0.171</td>\n",
              "      <td>63</td>\n",
              "      <td>0</td>\n",
              "    </tr>\n",
              "    <tr>\n",
              "      <th>764</th>\n",
              "      <td>2</td>\n",
              "      <td>122</td>\n",
              "      <td>70</td>\n",
              "      <td>27</td>\n",
              "      <td>0</td>\n",
              "      <td>36.8</td>\n",
              "      <td>0.340</td>\n",
              "      <td>27</td>\n",
              "      <td>0</td>\n",
              "    </tr>\n",
              "    <tr>\n",
              "      <th>765</th>\n",
              "      <td>5</td>\n",
              "      <td>121</td>\n",
              "      <td>72</td>\n",
              "      <td>23</td>\n",
              "      <td>112</td>\n",
              "      <td>26.2</td>\n",
              "      <td>0.245</td>\n",
              "      <td>30</td>\n",
              "      <td>0</td>\n",
              "    </tr>\n",
              "    <tr>\n",
              "      <th>766</th>\n",
              "      <td>1</td>\n",
              "      <td>126</td>\n",
              "      <td>60</td>\n",
              "      <td>0</td>\n",
              "      <td>0</td>\n",
              "      <td>30.1</td>\n",
              "      <td>0.349</td>\n",
              "      <td>47</td>\n",
              "      <td>1</td>\n",
              "    </tr>\n",
              "    <tr>\n",
              "      <th>767</th>\n",
              "      <td>1</td>\n",
              "      <td>93</td>\n",
              "      <td>70</td>\n",
              "      <td>31</td>\n",
              "      <td>0</td>\n",
              "      <td>30.4</td>\n",
              "      <td>0.315</td>\n",
              "      <td>23</td>\n",
              "      <td>0</td>\n",
              "    </tr>\n",
              "  </tbody>\n",
              "</table>\n",
              "<p>768 rows × 9 columns</p>\n",
              "</div>"
            ],
            "text/plain": [
              "      0    1   2   3    4     5      6   7  8\n",
              "0     6  148  72  35    0  33.6  0.627  50  1\n",
              "1     1   85  66  29    0  26.6  0.351  31  0\n",
              "2     8  183  64   0    0  23.3  0.672  32  1\n",
              "3     1   89  66  23   94  28.1  0.167  21  0\n",
              "4     0  137  40  35  168  43.1  2.288  33  1\n",
              "..   ..  ...  ..  ..  ...   ...    ...  .. ..\n",
              "763  10  101  76  48  180  32.9  0.171  63  0\n",
              "764   2  122  70  27    0  36.8  0.340  27  0\n",
              "765   5  121  72  23  112  26.2  0.245  30  0\n",
              "766   1  126  60   0    0  30.1  0.349  47  1\n",
              "767   1   93  70  31    0  30.4  0.315  23  0\n",
              "\n",
              "[768 rows x 9 columns]"
            ]
          },
          "metadata": {
            "tags": []
          },
          "execution_count": 676
        }
      ]
    },
    {
      "cell_type": "code",
      "metadata": {
        "id": "lB-YKT2rPqHs"
      },
      "source": [
        "imputer = SimpleImputer(missing_values='?', strategy='most_frequent')"
      ],
      "execution_count": null,
      "outputs": []
    },
    {
      "cell_type": "code",
      "metadata": {
        "colab": {
          "base_uri": "https://localhost:8080/"
        },
        "id": "mZgQewznPwdq",
        "outputId": "e6921d37-f0d0-4e75-9600-c85ca32f53c7"
      },
      "source": [
        "data_diabetes.shape"
      ],
      "execution_count": null,
      "outputs": [
        {
          "output_type": "execute_result",
          "data": {
            "text/plain": [
              "(768, 9)"
            ]
          },
          "metadata": {
            "tags": []
          },
          "execution_count": 678
        }
      ]
    },
    {
      "cell_type": "code",
      "metadata": {
        "id": "-Sl0Hg7cP2x3"
      },
      "source": [
        "dataset_di=imputer.fit_transform(data_diabetes)\n",
        "dataset_liv=imputer.fit_transform(data_liver)\n",
        "dataset_lung=imputer.fit_transform(data_lung)\n",
        "dataset_hepati=imputer.fit_transform(data_hepatitis)\n"
      ],
      "execution_count": null,
      "outputs": []
    },
    {
      "cell_type": "code",
      "metadata": {
        "id": "RGfQApDySvFm"
      },
      "source": [
        "df_di = pd.DataFrame.from_records(dataset_di)\n",
        "df_liv = pd.DataFrame.from_records(dataset_liv)\n",
        "df_lung = pd.DataFrame.from_records(dataset_lung)\n",
        "df_hepati = pd.DataFrame.from_records(dataset_hepati)\n"
      ],
      "execution_count": null,
      "outputs": []
    },
    {
      "cell_type": "code",
      "metadata": {
        "id": "eBE4xEPvUZAi"
      },
      "source": [
        "df_di=df_di.astype(float)\n",
        "df_liv=df_liv.astype(float)\n",
        "df_lung=df_lung.astype(float)\n",
        "df_hepati=df_hepati.astype(float)"
      ],
      "execution_count": null,
      "outputs": []
    },
    {
      "cell_type": "code",
      "metadata": {
        "colab": {
          "base_uri": "https://localhost:8080/",
          "height": 402
        },
        "id": "ilQLLsocUaJt",
        "outputId": "856e6ace-3c7a-4cd8-9bee-9cd62e1dd796"
      },
      "source": [
        "df_hepati"
      ],
      "execution_count": null,
      "outputs": [
        {
          "output_type": "execute_result",
          "data": {
            "text/html": [
              "<div>\n",
              "<style scoped>\n",
              "    .dataframe tbody tr th:only-of-type {\n",
              "        vertical-align: middle;\n",
              "    }\n",
              "\n",
              "    .dataframe tbody tr th {\n",
              "        vertical-align: top;\n",
              "    }\n",
              "\n",
              "    .dataframe thead th {\n",
              "        text-align: right;\n",
              "    }\n",
              "</style>\n",
              "<table border=\"1\" class=\"dataframe\">\n",
              "  <thead>\n",
              "    <tr style=\"text-align: right;\">\n",
              "      <th></th>\n",
              "      <th>0</th>\n",
              "      <th>1</th>\n",
              "      <th>2</th>\n",
              "      <th>3</th>\n",
              "      <th>4</th>\n",
              "      <th>5</th>\n",
              "      <th>6</th>\n",
              "      <th>7</th>\n",
              "      <th>8</th>\n",
              "      <th>9</th>\n",
              "      <th>10</th>\n",
              "      <th>11</th>\n",
              "      <th>12</th>\n",
              "      <th>13</th>\n",
              "      <th>14</th>\n",
              "      <th>15</th>\n",
              "      <th>16</th>\n",
              "      <th>17</th>\n",
              "      <th>18</th>\n",
              "      <th>19</th>\n",
              "    </tr>\n",
              "  </thead>\n",
              "  <tbody>\n",
              "    <tr>\n",
              "      <th>0</th>\n",
              "      <td>2.0</td>\n",
              "      <td>30.0</td>\n",
              "      <td>2.0</td>\n",
              "      <td>1.0</td>\n",
              "      <td>2.0</td>\n",
              "      <td>2.0</td>\n",
              "      <td>2.0</td>\n",
              "      <td>2.0</td>\n",
              "      <td>1.0</td>\n",
              "      <td>2.0</td>\n",
              "      <td>2.0</td>\n",
              "      <td>2.0</td>\n",
              "      <td>2.0</td>\n",
              "      <td>2.0</td>\n",
              "      <td>1.0</td>\n",
              "      <td>85.0</td>\n",
              "      <td>18.0</td>\n",
              "      <td>4.0</td>\n",
              "      <td>100.0</td>\n",
              "      <td>1.0</td>\n",
              "    </tr>\n",
              "    <tr>\n",
              "      <th>1</th>\n",
              "      <td>2.0</td>\n",
              "      <td>50.0</td>\n",
              "      <td>1.0</td>\n",
              "      <td>1.0</td>\n",
              "      <td>2.0</td>\n",
              "      <td>1.0</td>\n",
              "      <td>2.0</td>\n",
              "      <td>2.0</td>\n",
              "      <td>1.0</td>\n",
              "      <td>2.0</td>\n",
              "      <td>2.0</td>\n",
              "      <td>2.0</td>\n",
              "      <td>2.0</td>\n",
              "      <td>2.0</td>\n",
              "      <td>0.9</td>\n",
              "      <td>135.0</td>\n",
              "      <td>42.0</td>\n",
              "      <td>3.5</td>\n",
              "      <td>100.0</td>\n",
              "      <td>1.0</td>\n",
              "    </tr>\n",
              "    <tr>\n",
              "      <th>2</th>\n",
              "      <td>2.0</td>\n",
              "      <td>78.0</td>\n",
              "      <td>1.0</td>\n",
              "      <td>2.0</td>\n",
              "      <td>2.0</td>\n",
              "      <td>1.0</td>\n",
              "      <td>2.0</td>\n",
              "      <td>2.0</td>\n",
              "      <td>2.0</td>\n",
              "      <td>2.0</td>\n",
              "      <td>2.0</td>\n",
              "      <td>2.0</td>\n",
              "      <td>2.0</td>\n",
              "      <td>2.0</td>\n",
              "      <td>0.7</td>\n",
              "      <td>96.0</td>\n",
              "      <td>32.0</td>\n",
              "      <td>4.0</td>\n",
              "      <td>100.0</td>\n",
              "      <td>1.0</td>\n",
              "    </tr>\n",
              "    <tr>\n",
              "      <th>3</th>\n",
              "      <td>2.0</td>\n",
              "      <td>31.0</td>\n",
              "      <td>1.0</td>\n",
              "      <td>2.0</td>\n",
              "      <td>1.0</td>\n",
              "      <td>2.0</td>\n",
              "      <td>2.0</td>\n",
              "      <td>2.0</td>\n",
              "      <td>2.0</td>\n",
              "      <td>2.0</td>\n",
              "      <td>2.0</td>\n",
              "      <td>2.0</td>\n",
              "      <td>2.0</td>\n",
              "      <td>2.0</td>\n",
              "      <td>0.7</td>\n",
              "      <td>46.0</td>\n",
              "      <td>52.0</td>\n",
              "      <td>4.0</td>\n",
              "      <td>80.0</td>\n",
              "      <td>1.0</td>\n",
              "    </tr>\n",
              "    <tr>\n",
              "      <th>4</th>\n",
              "      <td>2.0</td>\n",
              "      <td>34.0</td>\n",
              "      <td>1.0</td>\n",
              "      <td>2.0</td>\n",
              "      <td>2.0</td>\n",
              "      <td>2.0</td>\n",
              "      <td>2.0</td>\n",
              "      <td>2.0</td>\n",
              "      <td>2.0</td>\n",
              "      <td>2.0</td>\n",
              "      <td>2.0</td>\n",
              "      <td>2.0</td>\n",
              "      <td>2.0</td>\n",
              "      <td>2.0</td>\n",
              "      <td>1.0</td>\n",
              "      <td>85.0</td>\n",
              "      <td>200.0</td>\n",
              "      <td>4.0</td>\n",
              "      <td>100.0</td>\n",
              "      <td>1.0</td>\n",
              "    </tr>\n",
              "    <tr>\n",
              "      <th>...</th>\n",
              "      <td>...</td>\n",
              "      <td>...</td>\n",
              "      <td>...</td>\n",
              "      <td>...</td>\n",
              "      <td>...</td>\n",
              "      <td>...</td>\n",
              "      <td>...</td>\n",
              "      <td>...</td>\n",
              "      <td>...</td>\n",
              "      <td>...</td>\n",
              "      <td>...</td>\n",
              "      <td>...</td>\n",
              "      <td>...</td>\n",
              "      <td>...</td>\n",
              "      <td>...</td>\n",
              "      <td>...</td>\n",
              "      <td>...</td>\n",
              "      <td>...</td>\n",
              "      <td>...</td>\n",
              "      <td>...</td>\n",
              "    </tr>\n",
              "    <tr>\n",
              "      <th>150</th>\n",
              "      <td>1.0</td>\n",
              "      <td>46.0</td>\n",
              "      <td>1.0</td>\n",
              "      <td>2.0</td>\n",
              "      <td>2.0</td>\n",
              "      <td>1.0</td>\n",
              "      <td>1.0</td>\n",
              "      <td>1.0</td>\n",
              "      <td>2.0</td>\n",
              "      <td>2.0</td>\n",
              "      <td>2.0</td>\n",
              "      <td>1.0</td>\n",
              "      <td>1.0</td>\n",
              "      <td>1.0</td>\n",
              "      <td>7.6</td>\n",
              "      <td>85.0</td>\n",
              "      <td>242.0</td>\n",
              "      <td>3.3</td>\n",
              "      <td>50.0</td>\n",
              "      <td>2.0</td>\n",
              "    </tr>\n",
              "    <tr>\n",
              "      <th>151</th>\n",
              "      <td>2.0</td>\n",
              "      <td>44.0</td>\n",
              "      <td>1.0</td>\n",
              "      <td>2.0</td>\n",
              "      <td>2.0</td>\n",
              "      <td>1.0</td>\n",
              "      <td>2.0</td>\n",
              "      <td>2.0</td>\n",
              "      <td>2.0</td>\n",
              "      <td>1.0</td>\n",
              "      <td>2.0</td>\n",
              "      <td>2.0</td>\n",
              "      <td>2.0</td>\n",
              "      <td>2.0</td>\n",
              "      <td>0.9</td>\n",
              "      <td>126.0</td>\n",
              "      <td>142.0</td>\n",
              "      <td>4.3</td>\n",
              "      <td>100.0</td>\n",
              "      <td>2.0</td>\n",
              "    </tr>\n",
              "    <tr>\n",
              "      <th>152</th>\n",
              "      <td>2.0</td>\n",
              "      <td>61.0</td>\n",
              "      <td>1.0</td>\n",
              "      <td>1.0</td>\n",
              "      <td>2.0</td>\n",
              "      <td>1.0</td>\n",
              "      <td>1.0</td>\n",
              "      <td>2.0</td>\n",
              "      <td>1.0</td>\n",
              "      <td>1.0</td>\n",
              "      <td>2.0</td>\n",
              "      <td>1.0</td>\n",
              "      <td>2.0</td>\n",
              "      <td>2.0</td>\n",
              "      <td>0.8</td>\n",
              "      <td>75.0</td>\n",
              "      <td>20.0</td>\n",
              "      <td>4.1</td>\n",
              "      <td>100.0</td>\n",
              "      <td>2.0</td>\n",
              "    </tr>\n",
              "    <tr>\n",
              "      <th>153</th>\n",
              "      <td>2.0</td>\n",
              "      <td>53.0</td>\n",
              "      <td>2.0</td>\n",
              "      <td>1.0</td>\n",
              "      <td>2.0</td>\n",
              "      <td>1.0</td>\n",
              "      <td>2.0</td>\n",
              "      <td>2.0</td>\n",
              "      <td>2.0</td>\n",
              "      <td>2.0</td>\n",
              "      <td>1.0</td>\n",
              "      <td>1.0</td>\n",
              "      <td>2.0</td>\n",
              "      <td>1.0</td>\n",
              "      <td>1.5</td>\n",
              "      <td>81.0</td>\n",
              "      <td>19.0</td>\n",
              "      <td>4.1</td>\n",
              "      <td>48.0</td>\n",
              "      <td>2.0</td>\n",
              "    </tr>\n",
              "    <tr>\n",
              "      <th>154</th>\n",
              "      <td>1.0</td>\n",
              "      <td>43.0</td>\n",
              "      <td>1.0</td>\n",
              "      <td>2.0</td>\n",
              "      <td>2.0</td>\n",
              "      <td>1.0</td>\n",
              "      <td>2.0</td>\n",
              "      <td>2.0</td>\n",
              "      <td>2.0</td>\n",
              "      <td>2.0</td>\n",
              "      <td>1.0</td>\n",
              "      <td>1.0</td>\n",
              "      <td>1.0</td>\n",
              "      <td>2.0</td>\n",
              "      <td>1.2</td>\n",
              "      <td>100.0</td>\n",
              "      <td>19.0</td>\n",
              "      <td>3.1</td>\n",
              "      <td>42.0</td>\n",
              "      <td>2.0</td>\n",
              "    </tr>\n",
              "  </tbody>\n",
              "</table>\n",
              "<p>155 rows × 20 columns</p>\n",
              "</div>"
            ],
            "text/plain": [
              "      0     1    2    3    4    5   ...   14     15     16   17     18   19\n",
              "0    2.0  30.0  2.0  1.0  2.0  2.0  ...  1.0   85.0   18.0  4.0  100.0  1.0\n",
              "1    2.0  50.0  1.0  1.0  2.0  1.0  ...  0.9  135.0   42.0  3.5  100.0  1.0\n",
              "2    2.0  78.0  1.0  2.0  2.0  1.0  ...  0.7   96.0   32.0  4.0  100.0  1.0\n",
              "3    2.0  31.0  1.0  2.0  1.0  2.0  ...  0.7   46.0   52.0  4.0   80.0  1.0\n",
              "4    2.0  34.0  1.0  2.0  2.0  2.0  ...  1.0   85.0  200.0  4.0  100.0  1.0\n",
              "..   ...   ...  ...  ...  ...  ...  ...  ...    ...    ...  ...    ...  ...\n",
              "150  1.0  46.0  1.0  2.0  2.0  1.0  ...  7.6   85.0  242.0  3.3   50.0  2.0\n",
              "151  2.0  44.0  1.0  2.0  2.0  1.0  ...  0.9  126.0  142.0  4.3  100.0  2.0\n",
              "152  2.0  61.0  1.0  1.0  2.0  1.0  ...  0.8   75.0   20.0  4.1  100.0  2.0\n",
              "153  2.0  53.0  2.0  1.0  2.0  1.0  ...  1.5   81.0   19.0  4.1   48.0  2.0\n",
              "154  1.0  43.0  1.0  2.0  2.0  1.0  ...  1.2  100.0   19.0  3.1   42.0  2.0\n",
              "\n",
              "[155 rows x 20 columns]"
            ]
          },
          "metadata": {
            "tags": []
          },
          "execution_count": 682
        }
      ]
    },
    {
      "cell_type": "markdown",
      "metadata": {
        "id": "ZvU7_XWYWGyt"
      },
      "source": [
        "## Normaliztion\n"
      ]
    },
    {
      "cell_type": "code",
      "metadata": {
        "id": "kQ4vIqzZpCH3"
      },
      "source": [
        "from sklearn import preprocessing\n",
        "\n",
        "x_di = df_di.values #returns a numpy array\n",
        "x_liv=df_liv.values\n",
        "x_lung=df_lung.values\n",
        "x_hepati=df_hepati.values"
      ],
      "execution_count": null,
      "outputs": []
    },
    {
      "cell_type": "code",
      "metadata": {
        "id": "VmCjUF1DVD9b"
      },
      "source": [
        "min_max_scaler = preprocessing.MinMaxScaler()\n"
      ],
      "execution_count": null,
      "outputs": []
    },
    {
      "cell_type": "code",
      "metadata": {
        "id": "4Ia3WoDGpTQY"
      },
      "source": [
        "x_scaled_di = min_max_scaler.fit_transform(x_di)\n",
        "x_scaled_liv = min_max_scaler.fit_transform(x_liv)\n",
        "x_scaled_lung = min_max_scaler.fit_transform(x_lung)\n",
        "x_scaled_hepati = min_max_scaler.fit_transform(x_hepati)\n",
        "\n"
      ],
      "execution_count": null,
      "outputs": []
    },
    {
      "cell_type": "code",
      "metadata": {
        "colab": {
          "base_uri": "https://localhost:8080/"
        },
        "id": "SGjdLgxNWN2Y",
        "outputId": "3e1d8bcf-9145-48eb-b607-358ce6e450ef"
      },
      "source": [
        "x_scaled_di"
      ],
      "execution_count": null,
      "outputs": [
        {
          "output_type": "execute_result",
          "data": {
            "text/plain": [
              "array([[0.35294118, 0.74371859, 0.59016393, ..., 0.23441503, 0.48333333,\n",
              "        1.        ],\n",
              "       [0.05882353, 0.42713568, 0.54098361, ..., 0.11656704, 0.16666667,\n",
              "        0.        ],\n",
              "       [0.47058824, 0.91959799, 0.52459016, ..., 0.25362938, 0.18333333,\n",
              "        1.        ],\n",
              "       ...,\n",
              "       [0.29411765, 0.6080402 , 0.59016393, ..., 0.07130658, 0.15      ,\n",
              "        0.        ],\n",
              "       [0.05882353, 0.63316583, 0.49180328, ..., 0.11571307, 0.43333333,\n",
              "        1.        ],\n",
              "       [0.05882353, 0.46733668, 0.57377049, ..., 0.10119556, 0.03333333,\n",
              "        0.        ]])"
            ]
          },
          "metadata": {
            "tags": []
          },
          "execution_count": 686
        }
      ]
    },
    {
      "cell_type": "code",
      "metadata": {
        "id": "uZIIh5Pllsaz"
      },
      "source": [
        "values_di=x_scaled_di\n",
        "values_liv=x_scaled_liv\n",
        "values_lung=x_scaled_lung\n",
        "values_hepati=x_scaled_hepati\n"
      ],
      "execution_count": null,
      "outputs": []
    },
    {
      "cell_type": "code",
      "metadata": {
        "id": "58VXKazJqcZ_"
      },
      "source": [
        "\n",
        "X_di, y_di = values_di[:, :-1], values_di[:, -1]\n",
        "X_liv, y_liv = values_liv[:, :-1], values_liv[:, -1]\n",
        "X_lung, y_lung = values_lung[:, :-1], values_lung[:, -1]\n",
        "X_hepati, y_hepati = values_hepati[:, :-1], values_hepati[:, -1]\n"
      ],
      "execution_count": null,
      "outputs": []
    },
    {
      "cell_type": "code",
      "metadata": {
        "colab": {
          "base_uri": "https://localhost:8080/"
        },
        "id": "OYMtD60gq7SL",
        "outputId": "c97d5676-955f-4519-d822-cbeaa1350696"
      },
      "source": [
        "X_di"
      ],
      "execution_count": null,
      "outputs": [
        {
          "output_type": "execute_result",
          "data": {
            "text/plain": [
              "array([[0.35294118, 0.74371859, 0.59016393, ..., 0.50074516, 0.23441503,\n",
              "        0.48333333],\n",
              "       [0.05882353, 0.42713568, 0.54098361, ..., 0.39642325, 0.11656704,\n",
              "        0.16666667],\n",
              "       [0.47058824, 0.91959799, 0.52459016, ..., 0.34724292, 0.25362938,\n",
              "        0.18333333],\n",
              "       ...,\n",
              "       [0.29411765, 0.6080402 , 0.59016393, ..., 0.390462  , 0.07130658,\n",
              "        0.15      ],\n",
              "       [0.05882353, 0.63316583, 0.49180328, ..., 0.4485842 , 0.11571307,\n",
              "        0.43333333],\n",
              "       [0.05882353, 0.46733668, 0.57377049, ..., 0.45305514, 0.10119556,\n",
              "        0.03333333]])"
            ]
          },
          "metadata": {
            "tags": []
          },
          "execution_count": 689
        }
      ]
    },
    {
      "cell_type": "markdown",
      "metadata": {
        "id": "Omvb_bJvflSO"
      },
      "source": [
        "## Discretization"
      ]
    },
    {
      "cell_type": "code",
      "metadata": {
        "id": "BA9Wqh9IWPnV"
      },
      "source": [
        "from sklearn.preprocessing import KBinsDiscretizer"
      ],
      "execution_count": null,
      "outputs": []
    },
    {
      "cell_type": "code",
      "metadata": {
        "id": "_rvoe-18fpNH"
      },
      "source": [
        "trans = KBinsDiscretizer(n_bins=4, encode='ordinal', strategy='uniform')"
      ],
      "execution_count": null,
      "outputs": []
    },
    {
      "cell_type": "code",
      "metadata": {
        "id": "W6sOAy9PftLh"
      },
      "source": [
        "X_di = trans.fit_transform(X_di)\n",
        "X_liv = trans.fit_transform(X_liv)\n",
        "X_lung = trans.fit_transform(X_lung)\n",
        "X_hepati = trans.fit_transform(X_hepati)\n",
        "df_di_X = pd.DataFrame.from_records(X_di)\n",
        "df_liv_X=pd.DataFrame.from_records(X_liv)\n",
        "df_lung_X=pd.DataFrame.from_records(X_lung)\n",
        "df_hepati_X=pd.DataFrame.from_records(X_hepati)"
      ],
      "execution_count": null,
      "outputs": []
    },
    {
      "cell_type": "markdown",
      "metadata": {
        "id": "cVwSK2uCOGOj"
      },
      "source": [
        "# Task 2"
      ]
    },
    {
      "cell_type": "markdown",
      "metadata": {
        "id": "3a6QJOZCOKah"
      },
      "source": [
        "## Feature Selection"
      ]
    },
    {
      "cell_type": "code",
      "metadata": {
        "id": "RBSWPQtZU9oc",
        "colab": {
          "base_uri": "https://localhost:8080/",
          "height": 227
        },
        "outputId": "0d03d6e9-78a4-4611-f664-e44001c5c038"
      },
      "source": [
        "reg_di = LassoCV()\n",
        "reg_liv = LassoCV()\n",
        "reg_lung = LassoCV()\n",
        "reg_hepati = LassoCV()\n"
      ],
      "execution_count": null,
      "outputs": [
        {
          "output_type": "error",
          "ename": "NameError",
          "evalue": "ignored",
          "traceback": [
            "\u001b[0;31m---------------------------------------------------------------------------\u001b[0m",
            "\u001b[0;31mNameError\u001b[0m                                 Traceback (most recent call last)",
            "\u001b[0;32m<ipython-input-1-334c1cef2713>\u001b[0m in \u001b[0;36m<module>\u001b[0;34m()\u001b[0m\n\u001b[0;32m----> 1\u001b[0;31m \u001b[0mreg_di\u001b[0m \u001b[0;34m=\u001b[0m \u001b[0mLassoCV\u001b[0m\u001b[0;34m(\u001b[0m\u001b[0;34m)\u001b[0m\u001b[0;34m\u001b[0m\u001b[0;34m\u001b[0m\u001b[0m\n\u001b[0m\u001b[1;32m      2\u001b[0m \u001b[0mreg_liv\u001b[0m \u001b[0;34m=\u001b[0m \u001b[0mLassoCV\u001b[0m\u001b[0;34m(\u001b[0m\u001b[0;34m)\u001b[0m\u001b[0;34m\u001b[0m\u001b[0;34m\u001b[0m\u001b[0m\n\u001b[1;32m      3\u001b[0m \u001b[0mreg_lung\u001b[0m \u001b[0;34m=\u001b[0m \u001b[0mLassoCV\u001b[0m\u001b[0;34m(\u001b[0m\u001b[0;34m)\u001b[0m\u001b[0;34m\u001b[0m\u001b[0;34m\u001b[0m\u001b[0m\n\u001b[1;32m      4\u001b[0m \u001b[0mreg_hepati\u001b[0m \u001b[0;34m=\u001b[0m \u001b[0mLassoCV\u001b[0m\u001b[0;34m(\u001b[0m\u001b[0;34m)\u001b[0m\u001b[0;34m\u001b[0m\u001b[0;34m\u001b[0m\u001b[0m\n",
            "\u001b[0;31mNameError\u001b[0m: name 'LassoCV' is not defined"
          ]
        }
      ]
    },
    {
      "cell_type": "code",
      "metadata": {
        "colab": {
          "base_uri": "https://localhost:8080/",
          "height": 227
        },
        "id": "jihVXsQbVszH",
        "outputId": "a8c62284-741f-4d52-adfb-ddd99a59844c"
      },
      "source": [
        "reg_di.fit(df_di_X, y_di)\n",
        "reg_liv.fit(df_liv_X, y_liv)\n",
        "reg_lung.fit(df_lung_X, y_lung)\n",
        "reg_hepati.fit(df_hepati_X, y_hepati)\n"
      ],
      "execution_count": null,
      "outputs": [
        {
          "output_type": "error",
          "ename": "NameError",
          "evalue": "ignored",
          "traceback": [
            "\u001b[0;31m---------------------------------------------------------------------------\u001b[0m",
            "\u001b[0;31mNameError\u001b[0m                                 Traceback (most recent call last)",
            "\u001b[0;32m<ipython-input-2-fd649f333704>\u001b[0m in \u001b[0;36m<module>\u001b[0;34m()\u001b[0m\n\u001b[0;32m----> 1\u001b[0;31m \u001b[0mreg_di\u001b[0m\u001b[0;34m.\u001b[0m\u001b[0mfit\u001b[0m\u001b[0;34m(\u001b[0m\u001b[0mdf_di_X\u001b[0m\u001b[0;34m,\u001b[0m \u001b[0my_di\u001b[0m\u001b[0;34m)\u001b[0m\u001b[0;34m\u001b[0m\u001b[0;34m\u001b[0m\u001b[0m\n\u001b[0m\u001b[1;32m      2\u001b[0m \u001b[0mreg_liv\u001b[0m\u001b[0;34m.\u001b[0m\u001b[0mfit\u001b[0m\u001b[0;34m(\u001b[0m\u001b[0mdf_liv_X\u001b[0m\u001b[0;34m,\u001b[0m \u001b[0my_liv\u001b[0m\u001b[0;34m)\u001b[0m\u001b[0;34m\u001b[0m\u001b[0;34m\u001b[0m\u001b[0m\n\u001b[1;32m      3\u001b[0m \u001b[0mreg_lung\u001b[0m\u001b[0;34m.\u001b[0m\u001b[0mfit\u001b[0m\u001b[0;34m(\u001b[0m\u001b[0mdf_lung_X\u001b[0m\u001b[0;34m,\u001b[0m \u001b[0my_lung\u001b[0m\u001b[0;34m)\u001b[0m\u001b[0;34m\u001b[0m\u001b[0;34m\u001b[0m\u001b[0m\n\u001b[1;32m      4\u001b[0m \u001b[0mreg_hepati\u001b[0m\u001b[0;34m.\u001b[0m\u001b[0mfit\u001b[0m\u001b[0;34m(\u001b[0m\u001b[0mdf_hepati_X\u001b[0m\u001b[0;34m,\u001b[0m \u001b[0my_hepati\u001b[0m\u001b[0;34m)\u001b[0m\u001b[0;34m\u001b[0m\u001b[0;34m\u001b[0m\u001b[0m\n",
            "\u001b[0;31mNameError\u001b[0m: name 'reg_di' is not defined"
          ]
        }
      ]
    },
    {
      "cell_type": "code",
      "metadata": {
        "id": "yI2o7Z04lXfj"
      },
      "source": [
        "print(\"Best alpha Diabetes using built-in LassoCV: %f\" % reg_di.alpha_)\n",
        "print(\"Best score using built-in LassoCV: %f\" %reg_di.score(df_di_X,y_di))\n",
        "coef_di = pd.Series(reg_di.coef_, index = df_di_X.columns)\n",
        "coef_liv = pd.Series(reg_liv.coef_, index = df_liv_X.columns)\n",
        "coef_lung = pd.Series(reg_lung.coef_, index = df_lung_X.columns)\n",
        "coef_hepati = pd.Series(reg_hepati.coef_, index = df_hepati_X.columns)\n"
      ],
      "execution_count": null,
      "outputs": []
    },
    {
      "cell_type": "code",
      "metadata": {
        "id": "mm0A_-wGTGtd"
      },
      "source": [
        "print(\"Lasso picked \" + str(sum(coef_di != 0)) + \" variables and eliminated the other \" +  str(sum(coef_di == 0)) + \" variables\")\n",
        "print(\"Lasso picked \" + str(sum(coef_liv != 0)) + \" variables and eliminated the other \" +  str(sum(coef_liv == 0)) + \" variables\")\n",
        "print(\"Lasso picked \" + str(sum(coef_lung != 0)) + \" variables and eliminated the other \" +  str(sum(coef_lung == 0)) + \" variables\")\n",
        "print(\"Lasso picked \" + str(sum(coef_hepati != 0)) + \" variables and eliminated the other \" +  str(sum(coef_hepati == 0)) + \" variables\")"
      ],
      "execution_count": null,
      "outputs": []
    },
    {
      "cell_type": "code",
      "metadata": {
        "id": "XqfpfbD4TtqT"
      },
      "source": [
        "'''\n",
        "imp_coef = coef.sort_values()\n",
        "import matplotlib\n",
        "matplotlib.rcParams['figure.figsize'] = (8.0, 10.0)\n",
        "imp_coef.plot(kind = \"barh\")\n",
        "plt.title(\"Feature importance using Lasso Model\")\n",
        "'''"
      ],
      "execution_count": null,
      "outputs": []
    },
    {
      "cell_type": "code",
      "metadata": {
        "id": "Bk8JBEh9T0Ok"
      },
      "source": [
        ""
      ],
      "execution_count": null,
      "outputs": []
    },
    {
      "cell_type": "code",
      "metadata": {
        "id": "JodogUa7oUX7"
      },
      "source": [
        ""
      ],
      "execution_count": null,
      "outputs": []
    },
    {
      "cell_type": "code",
      "metadata": {
        "id": "oIjLd72GUUHU"
      },
      "source": [
        "count=0\n",
        "for i in coef_di:\n",
        "  if( i==0):\n",
        "    df_di_X=df_di_X.drop(columns=[count])\n",
        "    \n",
        "  count+=1\n"
      ],
      "execution_count": null,
      "outputs": []
    },
    {
      "cell_type": "code",
      "metadata": {
        "id": "OVAYiBXr2whU"
      },
      "source": [
        "count=0\n",
        "for i in coef_liv:\n",
        "  if( i==0):\n",
        "    df_liv_X=df_liv_X.drop(columns=[count])\n",
        "  count+=1\n"
      ],
      "execution_count": null,
      "outputs": []
    },
    {
      "cell_type": "code",
      "metadata": {
        "id": "gD_e3D642y3-"
      },
      "source": [
        "count=0\n",
        "for i in coef_lung:\n",
        "  if( i==0):\n",
        "    df_lung_X=df_lung_X.drop(columns=[count])\n",
        "  count+=1"
      ],
      "execution_count": null,
      "outputs": []
    },
    {
      "cell_type": "code",
      "metadata": {
        "id": "7sNsQub-22bx"
      },
      "source": [
        "\n",
        "count=0\n",
        "for i in coef_hepati:\n",
        "  if( i==0):\n",
        "    df_hepati_X=df_hepati_X.drop(columns=[count])\n",
        "  \n",
        "  count+=1\n"
      ],
      "execution_count": null,
      "outputs": []
    },
    {
      "cell_type": "markdown",
      "metadata": {
        "id": "TayvzRAtx5Bp"
      },
      "source": [
        "# Task 3"
      ]
    },
    {
      "cell_type": "markdown",
      "metadata": {
        "id": "2lUusDlF722z"
      },
      "source": [
        "## KNN"
      ]
    },
    {
      "cell_type": "markdown",
      "metadata": {
        "id": "Lu6P-cQT1Ym2"
      },
      "source": [
        "# Diabetes Dataset"
      ]
    },
    {
      "cell_type": "code",
      "metadata": {
        "id": "aKJyteqzrdJ0"
      },
      "source": [
        "class KNN():\n",
        "\n",
        "    X_train=0\n",
        "    Y_train=0\n",
        "    test_size=45\n",
        "    k=0\n",
        "    def __init__(self, k, scalefeatures=False):        \n",
        "        self.k=k\n",
        "        #pass   \n",
        "    def fit(self, X, Y):\n",
        "        self.X_train=X\n",
        "        self.Y_train=Y \n",
        "\n",
        "    def Compute_distances(self,X, y, x_train, k):\n",
        "        n_samples = X.shape[0]\n",
        "        distances = np.empty(n_samples, dtype=np.float64)\n",
        "\n",
        "        # distance calculation\n",
        "        for i in range(n_samples):\n",
        "            distances[i] = (x_train - X[i]).dot(x_train - X[i])\n",
        "        #print(distances)\n",
        "        distances = sp.c_[distances, y]\n",
        "        sorted_distances = distances[distances[:,0].argsort()]\n",
        "        targets = sorted_distances[0:k,1]\n",
        "        unique, counts = np.unique(targets, return_counts=True)\n",
        "        return(unique[np.argmax(counts)])\n",
        "    def predict(self,X):\n",
        "\n",
        "        n_predictions, n_features = X.shape\n",
        "        predictions = []\n",
        "        for i in range(n_predictions):\n",
        "            print(X[i,:])\n",
        "#            print(self.Compute_distances(self.X_train, self.Y_train, X[i, :], self.k))\n",
        "            predictions.append( self.Compute_distances(self.X_train, self.Y_train, X[i, :], self.k))\n",
        "        return(predictions)\n",
        "    def accuracy_metric(self,actual, predicted):\n",
        "        correct = 0\n",
        "        for i in range(len(actual)):\n",
        "            if actual[i] == predicted[i]:\n",
        "                correct += 1\n",
        "        return correct / float(len(actual)) * 100.0"
      ],
      "execution_count": null,
      "outputs": []
    },
    {
      "cell_type": "code",
      "metadata": {
        "id": "6YEOHSnCV6io"
      },
      "source": [
        "X_train, X_test, y_train, y_test = train_test_split(df_di_X.values, y_di, test_size=0.3, random_state=42)"
      ],
      "execution_count": null,
      "outputs": []
    },
    {
      "cell_type": "code",
      "metadata": {
        "colab": {
          "base_uri": "https://localhost:8080/"
        },
        "id": "wiepXOUjDWsN",
        "outputId": "fdb324c6-f675-47ac-8f20-20bf51158c6a"
      },
      "source": [
        "X_train"
      ],
      "execution_count": null,
      "outputs": [
        {
          "output_type": "execute_result",
          "data": {
            "text/plain": [
              "array([[0., 1., 1., 1., 0., 0.],\n",
              "       [1., 2., 2., 2., 0., 0.],\n",
              "       [0., 2., 2., 2., 0., 0.],\n",
              "       ...,\n",
              "       [2., 2., 2., 2., 1., 1.],\n",
              "       [0., 2., 0., 2., 0., 0.],\n",
              "       [0., 2., 3., 1., 0., 0.]])"
            ]
          },
          "metadata": {
            "tags": []
          },
          "execution_count": 704
        }
      ]
    },
    {
      "cell_type": "code",
      "metadata": {
        "colab": {
          "base_uri": "https://localhost:8080/"
        },
        "id": "_Dgl5OPbWYYB",
        "outputId": "edc4dbc0-b16d-40f1-91a3-3cc336753f25"
      },
      "source": [
        "c1 = KNN(k=7)\n",
        "c1.fit(X_train, y_train)\n",
        "pred_y = c1.predict(X_test)"
      ],
      "execution_count": null,
      "outputs": [
        {
          "output_type": "stream",
          "text": [
            "[1. 1. 1. 2. 0. 1.]\n",
            "[0. 2. 2. 2. 0. 0.]\n",
            "[0. 2. 2. 1. 0. 0.]\n",
            "[1. 2. 2. 1. 1. 0.]\n",
            "[1. 2. 2. 1. 0. 1.]\n",
            "[1. 2. 2. 2. 0. 2.]\n",
            "[0. 1. 1. 1. 0. 0.]\n",
            "[0. 2. 0. 2. 1. 1.]\n",
            "[0. 3. 2. 1. 0. 1.]\n",
            "[1. 2. 2. 2. 0. 2.]\n",
            "[2. 2. 2. 1. 0. 1.]\n",
            "[1. 3. 3. 2. 0. 2.]\n",
            "[0. 2. 1. 1. 0. 0.]\n",
            "[1. 1. 2. 2. 1. 1.]\n",
            "[0. 1. 1. 1. 1. 0.]\n",
            "[0. 2. 1. 1. 1. 0.]\n",
            "[0. 1. 2. 2. 0. 0.]\n",
            "[1. 1. 2. 1. 0. 0.]\n",
            "[0. 3. 0. 1. 0. 1.]\n",
            "[0. 2. 2. 2. 0. 0.]\n",
            "[1. 2. 2. 1. 0. 1.]\n",
            "[0. 1. 2. 1. 0. 0.]\n",
            "[3. 2. 2. 2. 0. 1.]\n",
            "[0. 1. 2. 1. 0. 0.]\n",
            "[2. 2. 2. 2. 0. 1.]\n",
            "[1. 3. 2. 2. 0. 1.]\n",
            "[1. 2. 1. 1. 0. 0.]\n",
            "[0. 2. 2. 1. 0. 0.]\n",
            "[0. 2. 2. 2. 0. 0.]\n",
            "[0. 1. 2. 1. 0. 1.]\n",
            "[0. 3. 2. 3. 1. 0.]\n",
            "[0. 2. 2. 2. 0. 3.]\n",
            "[0. 3. 2. 2. 0. 0.]\n",
            "[0. 3. 0. 1. 1. 0.]\n",
            "[0. 2. 3. 2. 1. 2.]\n",
            "[2. 3. 2. 2. 1. 0.]\n",
            "[0. 3. 2. 2. 0. 2.]\n",
            "[0. 2. 2. 1. 1. 1.]\n",
            "[2. 2. 2. 1. 0. 2.]\n",
            "[0. 2. 0. 2. 0. 0.]\n",
            "[0. 1. 1. 1. 0. 0.]\n",
            "[0. 2. 1. 1. 1. 2.]\n",
            "[1. 2. 2. 2. 0. 2.]\n",
            "[3. 2. 2. 1. 0. 1.]\n",
            "[1. 1. 3. 1. 0. 0.]\n",
            "[0. 3. 2. 1. 1. 0.]\n",
            "[0. 2. 2. 2. 2. 2.]\n",
            "[1. 1. 2. 2. 0. 0.]\n",
            "[1. 2. 2. 1. 1. 2.]\n",
            "[0. 3. 2. 2. 1. 2.]\n",
            "[0. 1. 2. 1. 0. 0.]\n",
            "[2. 2. 2. 1. 1. 2.]\n",
            "[2. 2. 2. 2. 0. 2.]\n",
            "[0. 2. 2. 1. 0. 0.]\n",
            "[0. 2. 2. 1. 0. 0.]\n",
            "[0. 1. 2. 1. 0. 0.]\n",
            "[1. 3. 2. 1. 0. 2.]\n",
            "[0. 1. 0. 0. 0. 0.]\n",
            "[0. 2. 2. 2. 1. 0.]\n",
            "[1. 3. 2. 1. 0. 1.]\n",
            "[1. 3. 2. 1. 0. 1.]\n",
            "[0. 2. 2. 2. 0. 0.]\n",
            "[1. 2. 2. 1. 0. 2.]\n",
            "[2. 1. 2. 1. 1. 1.]\n",
            "[0. 1. 2. 2. 0. 0.]\n",
            "[0. 2. 2. 2. 0. 0.]\n",
            "[0. 1. 1. 1. 0. 0.]\n",
            "[1. 2. 2. 2. 0. 1.]\n",
            "[0. 2. 2. 1. 0. 0.]\n",
            "[0. 3. 2. 2. 1. 0.]\n",
            "[1. 3. 2. 2. 1. 1.]\n",
            "[0. 1. 2. 1. 0. 0.]\n",
            "[2. 1. 2. 1. 0. 2.]\n",
            "[0. 1. 2. 2. 0. 0.]\n",
            "[1. 2. 2. 1. 0. 0.]\n",
            "[1. 2. 3. 2. 0. 2.]\n",
            "[0. 2. 2. 1. 0. 2.]\n",
            "[0. 1. 1. 1. 1. 1.]\n",
            "[0. 2. 2. 1. 0. 0.]\n",
            "[0. 2. 3. 2. 0. 0.]\n",
            "[1. 3. 2. 1. 0. 1.]\n",
            "[0. 2. 2. 2. 0. 0.]\n",
            "[0. 1. 2. 1. 0. 0.]\n",
            "[0. 2. 3. 2. 0. 0.]\n",
            "[0. 2. 2. 2. 1. 0.]\n",
            "[0. 3. 2. 2. 0. 1.]\n",
            "[1. 3. 2. 2. 0. 1.]\n",
            "[0. 2. 2. 1. 1. 0.]\n",
            "[1. 1. 2. 1. 0. 0.]\n",
            "[0. 1. 1. 1. 0. 0.]\n",
            "[0. 1. 1. 1. 0. 0.]\n",
            "[0. 1. 2. 2. 0. 0.]\n",
            "[0. 1. 0. 0. 0. 0.]\n",
            "[1. 2. 0. 1. 0. 1.]\n",
            "[0. 2. 1. 2. 0. 0.]\n",
            "[0. 2. 2. 2. 0. 0.]\n",
            "[2. 2. 1. 1. 0. 1.]\n",
            "[0. 1. 2. 2. 0. 0.]\n",
            "[0. 3. 1. 2. 1. 0.]\n",
            "[1. 1. 2. 1. 0. 1.]\n",
            "[0. 3. 2. 1. 0. 1.]\n",
            "[0. 1. 2. 2. 0. 0.]\n",
            "[3. 2. 2. 2. 0. 1.]\n",
            "[0. 2. 2. 2. 0. 0.]\n",
            "[0. 3. 2. 1. 1. 0.]\n",
            "[0. 2. 2. 2. 0. 0.]\n",
            "[0. 2. 1. 1. 0. 0.]\n",
            "[0. 3. 2. 2. 1. 0.]\n",
            "[0. 1. 2. 2. 2. 0.]\n",
            "[1. 2. 2. 2. 1. 1.]\n",
            "[0. 1. 1. 1. 0. 0.]\n",
            "[0. 3. 2. 1. 0. 0.]\n",
            "[1. 2. 0. 0. 0. 0.]\n",
            "[1. 3. 3. 2. 0. 1.]\n",
            "[0. 2. 2. 2. 0. 0.]\n",
            "[0. 2. 1. 2. 0. 0.]\n",
            "[0. 3. 1. 2. 0. 0.]\n",
            "[0. 2. 2. 1. 0. 0.]\n",
            "[0. 1. 2. 1. 0. 0.]\n",
            "[2. 2. 0. 2. 0. 0.]\n",
            "[0. 2. 1. 1. 0. 0.]\n",
            "[0. 2. 2. 2. 1. 0.]\n",
            "[2. 2. 2. 1. 0. 0.]\n",
            "[0. 1. 2. 1. 2. 0.]\n",
            "[0. 3. 1. 1. 0. 0.]\n",
            "[2. 2. 2. 1. 0. 2.]\n",
            "[2. 2. 0. 0. 0. 0.]\n",
            "[2. 3. 2. 1. 2. 2.]\n",
            "[2. 2. 0. 3. 0. 1.]\n",
            "[0. 3. 3. 1. 1. 1.]\n",
            "[1. 3. 2. 1. 1. 0.]\n",
            "[2. 3. 2. 2. 1. 1.]\n",
            "[0. 2. 1. 1. 1. 0.]\n",
            "[2. 2. 2. 1. 0. 1.]\n",
            "[0. 3. 2. 2. 2. 0.]\n",
            "[0. 2. 2. 1. 0. 0.]\n",
            "[1. 2. 2. 1. 0. 0.]\n",
            "[3. 3. 3. 2. 0. 1.]\n",
            "[1. 3. 2. 2. 1. 2.]\n",
            "[0. 1. 2. 1. 0. 0.]\n",
            "[0. 2. 2. 1. 0. 0.]\n",
            "[0. 1. 1. 1. 0. 0.]\n",
            "[0. 2. 2. 1. 0. 0.]\n",
            "[0. 2. 2. 2. 0. 0.]\n",
            "[0. 1. 1. 2. 0. 0.]\n",
            "[1. 1. 2. 2. 0. 1.]\n",
            "[1. 1. 2. 1. 1. 0.]\n",
            "[0. 1. 1. 1. 0. 0.]\n",
            "[0. 2. 2. 2. 0. 1.]\n",
            "[2. 3. 2. 1. 0. 1.]\n",
            "[0. 1. 1. 1. 2. 0.]\n",
            "[1. 1. 2. 2. 0. 2.]\n",
            "[0. 2. 2. 1. 0. 0.]\n",
            "[1. 1. 2. 2. 1. 1.]\n",
            "[0. 1. 0. 0. 0. 0.]\n",
            "[2. 2. 2. 1. 2. 1.]\n",
            "[0. 2. 1. 1. 0. 0.]\n",
            "[0. 3. 1. 1. 0. 2.]\n",
            "[1. 2. 2. 2. 0. 1.]\n",
            "[0. 2. 2. 1. 0. 0.]\n",
            "[0. 2. 0. 1. 0. 0.]\n",
            "[2. 3. 2. 1. 0. 1.]\n",
            "[0. 2. 1. 2. 0. 0.]\n",
            "[0. 1. 1. 1. 0. 0.]\n",
            "[0. 1. 1. 2. 0. 0.]\n",
            "[0. 3. 2. 2. 0. 0.]\n",
            "[0. 1. 2. 1. 0. 0.]\n",
            "[0. 2. 2. 1. 0. 0.]\n",
            "[0. 3. 2. 1. 0. 0.]\n",
            "[2. 2. 1. 1. 1. 0.]\n",
            "[1. 3. 2. 1. 0. 1.]\n",
            "[0. 2. 2. 1. 1. 0.]\n",
            "[0. 2. 2. 1. 0. 0.]\n",
            "[0. 2. 3. 3. 1. 0.]\n",
            "[1. 3. 2. 2. 0. 0.]\n",
            "[0. 2. 2. 1. 1. 0.]\n",
            "[0. 2. 1. 2. 0. 0.]\n",
            "[2. 2. 2. 1. 0. 1.]\n",
            "[1. 2. 2. 1. 1. 1.]\n",
            "[0. 2. 2. 1. 1. 0.]\n",
            "[3. 2. 2. 1. 0. 2.]\n",
            "[0. 3. 2. 2. 0. 0.]\n",
            "[1. 2. 2. 2. 0. 1.]\n",
            "[0. 2. 3. 2. 0. 0.]\n",
            "[0. 2. 2. 2. 1. 0.]\n",
            "[0. 2. 2. 1. 0. 0.]\n",
            "[0. 1. 2. 1. 0. 0.]\n",
            "[0. 1. 2. 2. 0. 0.]\n",
            "[1. 3. 2. 1. 0. 2.]\n",
            "[1. 2. 2. 2. 1. 0.]\n",
            "[0. 1. 1. 1. 0. 0.]\n",
            "[0. 2. 2. 1. 0. 0.]\n",
            "[3. 2. 0. 2. 0. 1.]\n",
            "[0. 2. 2. 2. 0. 0.]\n",
            "[0. 1. 2. 2. 0. 1.]\n",
            "[0. 1. 2. 1. 0. 0.]\n",
            "[0. 2. 2. 0. 0. 0.]\n",
            "[0. 1. 1. 1. 0. 0.]\n",
            "[0. 2. 2. 2. 1. 0.]\n",
            "[0. 3. 2. 2. 0. 0.]\n",
            "[2. 1. 2. 1. 0. 0.]\n",
            "[0. 2. 2. 2. 0. 0.]\n",
            "[1. 1. 2. 2. 0. 2.]\n",
            "[0. 2. 1. 1. 2. 0.]\n",
            "[1. 2. 2. 2. 1. 1.]\n",
            "[0. 1. 2. 1. 0. 0.]\n",
            "[0. 1. 1. 2. 0. 0.]\n",
            "[0. 2. 2. 2. 0. 0.]\n",
            "[1. 3. 2. 2. 0. 1.]\n",
            "[3. 3. 2. 1. 1. 1.]\n",
            "[0. 2. 2. 1. 0. 0.]\n",
            "[0. 2. 2. 2. 0. 0.]\n",
            "[0. 2. 1. 1. 0. 0.]\n",
            "[0. 2. 2. 1. 0. 0.]\n",
            "[2. 2. 3. 2. 0. 2.]\n",
            "[0. 2. 1. 1. 0. 0.]\n",
            "[0. 3. 2. 3. 0. 0.]\n",
            "[1. 2. 2. 1. 1. 0.]\n",
            "[0. 2. 2. 1. 0. 0.]\n",
            "[2. 3. 2. 2. 0. 1.]\n",
            "[0. 3. 2. 1. 0. 0.]\n",
            "[1. 1. 2. 1. 1. 1.]\n",
            "[0. 2. 1. 1. 0. 0.]\n",
            "[0. 2. 2. 1. 0. 0.]\n",
            "[2. 1. 2. 1. 0. 0.]\n",
            "[0. 2. 0. 2. 0. 1.]\n",
            "[0. 2. 0. 1. 0. 0.]\n",
            "[0. 2. 2. 2. 1. 0.]\n",
            "[0. 2. 2. 2. 1. 0.]\n",
            "[1. 2. 2. 1. 0. 1.]\n",
            "[1. 1. 2. 2. 0. 0.]\n"
          ],
          "name": "stdout"
        }
      ]
    },
    {
      "cell_type": "code",
      "metadata": {
        "colab": {
          "base_uri": "https://localhost:8080/"
        },
        "id": "PHjUZJvzWpB8",
        "outputId": "4a878252-d5c1-40ab-9547-565dd0f600c0"
      },
      "source": [
        "from sklearn.metrics import classification_report, f1_score, accuracy_score, confusion_matrix\n",
        "print(classification_report(pred_y,y_test))\n",
        "print(\"Accuracy \", c1.accuracy_metric(y_test,pred_y))"
      ],
      "execution_count": null,
      "outputs": [
        {
          "output_type": "stream",
          "text": [
            "              precision    recall  f1-score   support\n",
            "\n",
            "         0.0       0.79      0.78      0.79       152\n",
            "         1.0       0.59      0.59      0.59        79\n",
            "\n",
            "    accuracy                           0.72       231\n",
            "   macro avg       0.69      0.69      0.69       231\n",
            "weighted avg       0.72      0.72      0.72       231\n",
            "\n",
            "Accuracy  71.86147186147186\n"
          ],
          "name": "stdout"
        }
      ]
    },
    {
      "cell_type": "code",
      "metadata": {
        "colab": {
          "base_uri": "https://localhost:8080/",
          "height": 279
        },
        "id": "BF6tCKlAE9oy",
        "outputId": "6abd7077-a14b-4b5c-9120-a460b5bcb048"
      },
      "source": [
        "\n",
        "data = {'y_Actual':    y_test,\n",
        "        'y_Predicted': pred_y\n",
        "        }\n",
        "\n",
        "df = pd.DataFrame(data, columns=['y_Actual','y_Predicted'])\n",
        "confusion_matrix = pd.crosstab(df['y_Actual'], df['y_Predicted'], rownames=['Actual'], colnames=['Predicted'])\n",
        "\n",
        "sn.heatmap(confusion_matrix, annot=True)\n",
        "plt.show()"
      ],
      "execution_count": null,
      "outputs": [
        {
          "output_type": "display_data",
          "data": {
            "image/png": "[encoded data removed]",
            "text/plain": [
              "<Figure size 432x288 with 2 Axes>"
            ]
          },
          "metadata": {
            "tags": [],
            "needs_background": "light"
          }
        }
      ]
    },
    {
      "cell_type": "markdown",
      "metadata": {
        "id": "gkH3cxRrx87M"
      },
      "source": [
        "## Naive Bayes"
      ]
    },
    {
      "cell_type": "code",
      "metadata": {
        "colab": {
          "base_uri": "https://localhost:8080/"
        },
        "id": "EApAAKjDXPIC",
        "outputId": "4ca5217c-7a8b-448f-ccf7-57e816036d17"
      },
      "source": [
        "from sklearn.naive_bayes import GaussianNB\n",
        "gnb = GaussianNB()\n",
        "y_pred = gnb.fit(X_train, y_train).predict(X_test)\n",
        "print(classification_report(pred_y,y_test))"
      ],
      "execution_count": null,
      "outputs": [
        {
          "output_type": "stream",
          "text": [
            "              precision    recall  f1-score   support\n",
            "\n",
            "         0.0       0.79      0.78      0.79       152\n",
            "         1.0       0.59      0.59      0.59        79\n",
            "\n",
            "    accuracy                           0.72       231\n",
            "   macro avg       0.69      0.69      0.69       231\n",
            "weighted avg       0.72      0.72      0.72       231\n",
            "\n"
          ],
          "name": "stdout"
        }
      ]
    },
    {
      "cell_type": "code",
      "metadata": {
        "colab": {
          "base_uri": "https://localhost:8080/"
        },
        "id": "836mcTwIu6L-",
        "outputId": "cd6e64bb-1d4b-428d-8626-52d5523d778b"
      },
      "source": [
        "accuracy_score(y_test, y_pred)"
      ],
      "execution_count": null,
      "outputs": [
        {
          "output_type": "execute_result",
          "data": {
            "text/plain": [
              "0.7229437229437229"
            ]
          },
          "metadata": {
            "tags": []
          },
          "execution_count": 711
        }
      ]
    },
    {
      "cell_type": "code",
      "metadata": {
        "id": "Qo34_mjs0vhh"
      },
      "source": [
        "from sklearn.neighbors import KNeighborsClassifier\n",
        "neigh = KNeighborsClassifier(n_neighbors=7)"
      ],
      "execution_count": null,
      "outputs": []
    },
    {
      "cell_type": "code",
      "metadata": {
        "colab": {
          "base_uri": "https://localhost:8080/",
          "height": 283
        },
        "id": "yI-TX8U8HgXo",
        "outputId": "4afeb33a-7190-4cee-db19-cd607e00ce28"
      },
      "source": [
        "\n",
        "data = {'y_Actual':    y_test,\n",
        "        'y_Predicted': y_pred\n",
        "        }\n",
        "\n",
        "df = pd.DataFrame(data, columns=['y_Actual','y_Predicted'])\n",
        "confusion_matrix = pd.crosstab(df['y_Actual'], df['y_Predicted'], rownames=['Actual'], colnames=['Predicted'])\n",
        "\n",
        "sn.heatmap(confusion_matrix, annot=True)\n",
        "plt.show()"
      ],
      "execution_count": null,
      "outputs": [
        {
          "output_type": "display_data",
          "data": {
            "image/png": "[encoded data removed]",
            "text/plain": [
              "<Figure size 432x288 with 2 Axes>"
            ]
          },
          "metadata": {
            "tags": [],
            "needs_background": "light"
          }
        }
      ]
    },
    {
      "cell_type": "markdown",
      "metadata": {
        "id": "jpjmzFBAyBhR"
      },
      "source": [
        "## Kfold Cross Validation"
      ]
    },
    {
      "cell_type": "code",
      "metadata": {
        "id": "ZiBHNW8vvLZd"
      },
      "source": [
        "from sklearn.model_selection import KFold\n",
        "from sklearn.model_selection import cross_val_score\n",
        "from numpy import mean\n",
        "from numpy import std"
      ],
      "execution_count": null,
      "outputs": []
    },
    {
      "cell_type": "markdown",
      "metadata": {
        "id": "3mqcBDFZ08r5"
      },
      "source": [
        "### For KNN "
      ]
    },
    {
      "cell_type": "code",
      "metadata": {
        "colab": {
          "base_uri": "https://localhost:8080/"
        },
        "id": "fwR0auFxy3xE",
        "outputId": "355a6561-5c48-4b14-dc59-f078785165db"
      },
      "source": [
        "cv = KFold(n_splits=2)\n",
        "scores = cross_val_score(neigh, df_di_X.values, y_di, scoring='accuracy', cv=cv, n_jobs=-1)\n",
        "print(scores)"
      ],
      "execution_count": null,
      "outputs": [
        {
          "output_type": "stream",
          "text": [
            "[0.703125   0.72395833]\n"
          ],
          "name": "stdout"
        }
      ]
    },
    {
      "cell_type": "markdown",
      "metadata": {
        "id": "qRbMm22E1Ccw"
      },
      "source": [
        "### For Naive Bayes"
      ]
    },
    {
      "cell_type": "code",
      "metadata": {
        "colab": {
          "base_uri": "https://localhost:8080/"
        },
        "id": "hvCpoDDD1Hx3",
        "outputId": "5d2803ff-8f57-40dc-95ab-d0b53d0c71b2"
      },
      "source": [
        "scores = cross_val_score(gnb, df_di_X.values, y_di, scoring='accuracy', cv=cv, n_jobs=-1)\n",
        "print(scores)"
      ],
      "execution_count": null,
      "outputs": [
        {
          "output_type": "stream",
          "text": [
            "[0.70052083 0.72916667]\n"
          ],
          "name": "stdout"
        }
      ]
    },
    {
      "cell_type": "markdown",
      "metadata": {
        "id": "kwAI4Hab1d9M"
      },
      "source": [
        "# Liver Dataset"
      ]
    },
    {
      "cell_type": "code",
      "metadata": {
        "id": "p_LK23DSxxpz"
      },
      "source": [
        "X_train, X_test, y_train, y_test = train_test_split(df_liv_X.values, y_liv, test_size=0.3, random_state=42)"
      ],
      "execution_count": null,
      "outputs": []
    },
    {
      "cell_type": "code",
      "metadata": {
        "colab": {
          "base_uri": "https://localhost:8080/"
        },
        "id": "ftv4aBOL1mq_",
        "outputId": "56361d79-558b-4fb5-f81e-d16f2743322b"
      },
      "source": [
        "c1 = KNN(k=7)\n",
        "c1.fit(X_train, y_train)\n",
        "pred_y = c1.predict(X_test)"
      ],
      "execution_count": null,
      "outputs": [
        {
          "output_type": "stream",
          "text": [
            "[3. 1. 0. 0. 0. 0.]\n",
            "[2. 2. 1. 1. 0. 0.]\n",
            "[2. 1. 0. 0. 0. 0.]\n",
            "[2. 2. 0. 1. 0. 0.]\n",
            "[3. 2. 0. 1. 0. 1.]\n",
            "[2. 0. 0. 0. 0. 2.]\n",
            "[2. 2. 0. 0. 0. 1.]\n",
            "[2. 2. 0. 0. 0. 0.]\n",
            "[2. 2. 0. 2. 2. 0.]\n",
            "[2. 2. 0. 1. 0. 0.]\n",
            "[3. 2. 1. 1. 1. 1.]\n",
            "[2. 2. 0. 0. 0. 0.]\n",
            "[2. 2. 0. 1. 0. 0.]\n",
            "[2. 1. 0. 0. 0. 0.]\n",
            "[2. 1. 0. 0. 0. 1.]\n",
            "[2. 1. 0. 0. 0. 0.]\n",
            "[2. 1. 0. 2. 0. 0.]\n",
            "[2. 1. 0. 0. 0. 0.]\n",
            "[2. 3. 1. 0. 0. 2.]\n",
            "[2. 1. 0. 0. 0. 0.]\n",
            "[2. 1. 0. 0. 0. 1.]\n",
            "[2. 1. 0. 0. 0. 0.]\n",
            "[2. 1. 0. 1. 0. 0.]\n",
            "[2. 1. 0. 0. 0. 0.]\n",
            "[2. 0. 0. 0. 0. 1.]\n",
            "[2. 1. 1. 2. 0. 1.]\n",
            "[2. 2. 0. 0. 0. 0.]\n",
            "[2. 1. 0. 0. 0. 2.]\n",
            "[2. 1. 0. 0. 0. 1.]\n",
            "[2. 2. 0. 1. 0. 1.]\n",
            "[2. 0. 0. 0. 0. 0.]\n",
            "[2. 1. 0. 0. 0. 0.]\n",
            "[2. 3. 0. 1. 0. 0.]\n",
            "[2. 1. 0. 0. 0. 0.]\n",
            "[2. 1. 0. 0. 0. 0.]\n",
            "[2. 2. 0. 0. 0. 0.]\n",
            "[2. 1. 0. 0. 0. 0.]\n",
            "[3. 2. 0. 0. 0. 0.]\n",
            "[3. 1. 0. 0. 0. 0.]\n",
            "[2. 3. 0. 1. 0. 0.]\n",
            "[2. 0. 0. 0. 0. 0.]\n",
            "[2. 2. 0. 1. 0. 2.]\n",
            "[3. 1. 1. 1. 1. 3.]\n",
            "[2. 2. 1. 1. 0. 0.]\n",
            "[2. 1. 0. 0. 0. 0.]\n",
            "[2. 1. 0. 0. 1. 0.]\n",
            "[2. 1. 0. 1. 0. 0.]\n",
            "[2. 1. 0. 1. 3. 0.]\n",
            "[2. 1. 0. 0. 0. 0.]\n",
            "[2. 2. 0. 0. 0. 0.]\n",
            "[3. 1. 0. 0. 0. 0.]\n",
            "[2. 1. 0. 0. 0. 0.]\n",
            "[3. 2. 0. 1. 0. 0.]\n",
            "[2. 2. 0. 0. 0. 0.]\n",
            "[2. 1. 0. 1. 0. 0.]\n",
            "[3. 1. 0. 0. 0. 0.]\n",
            "[2. 2. 0. 1. 0. 0.]\n",
            "[2. 2. 0. 0. 0. 1.]\n",
            "[3. 1. 0. 0. 0. 1.]\n",
            "[2. 1. 0. 0. 0. 0.]\n",
            "[2. 2. 1. 1. 1. 1.]\n",
            "[2. 1. 0. 1. 0. 0.]\n",
            "[2. 1. 1. 1. 0. 1.]\n",
            "[2. 1. 0. 0. 0. 0.]\n",
            "[3. 2. 0. 3. 2. 1.]\n",
            "[2. 1. 0. 0. 0. 1.]\n",
            "[2. 1. 0. 0. 0. 0.]\n",
            "[2. 2. 1. 1. 2. 0.]\n",
            "[2. 1. 0. 0. 0. 0.]\n",
            "[2. 1. 0. 0. 0. 0.]\n",
            "[2. 1. 0. 1. 0. 0.]\n",
            "[2. 1. 0. 0. 0. 0.]\n",
            "[2. 1. 0. 1. 0. 1.]\n",
            "[2. 1. 0. 0. 0. 1.]\n",
            "[1. 1. 0. 0. 0. 1.]\n",
            "[3. 0. 0. 0. 0. 1.]\n",
            "[2. 1. 0. 1. 0. 0.]\n",
            "[3. 1. 1. 1. 0. 1.]\n",
            "[2. 1. 0. 1. 0. 0.]\n",
            "[2. 1. 0. 0. 0. 0.]\n",
            "[2. 0. 0. 0. 0. 0.]\n",
            "[2. 2. 1. 1. 1. 1.]\n",
            "[2. 1. 0. 0. 0. 0.]\n",
            "[2. 1. 1. 1. 1. 1.]\n",
            "[2. 2. 0. 1. 0. 0.]\n",
            "[2. 1. 0. 1. 0. 1.]\n",
            "[2. 1. 0. 0. 0. 0.]\n",
            "[2. 1. 1. 1. 1. 0.]\n",
            "[2. 1. 0. 0. 0. 0.]\n",
            "[2. 1. 0. 0. 0. 1.]\n",
            "[2. 1. 0. 0. 0. 0.]\n",
            "[2. 2. 1. 1. 0. 0.]\n",
            "[2. 1. 1. 1. 0. 0.]\n",
            "[3. 1. 0. 0. 0. 1.]\n",
            "[2. 2. 1. 0. 0. 1.]\n",
            "[2. 0. 0. 0. 0. 1.]\n",
            "[2. 1. 0. 0. 0. 1.]\n",
            "[3. 3. 0. 1. 0. 0.]\n",
            "[2. 0. 0. 0. 0. 0.]\n",
            "[3. 1. 0. 1. 0. 0.]\n",
            "[2. 1. 0. 0. 0. 0.]\n",
            "[2. 2. 0. 0. 0. 0.]\n",
            "[2. 0. 0. 0. 0. 0.]\n",
            "[2. 2. 0. 1. 0. 0.]\n"
          ],
          "name": "stdout"
        }
      ]
    },
    {
      "cell_type": "code",
      "metadata": {
        "colab": {
          "base_uri": "https://localhost:8080/"
        },
        "id": "rCmJLIqT1rR_",
        "outputId": "cf2d771f-0928-4eef-b4ea-f7554fd20b79"
      },
      "source": [
        "from sklearn.metrics import classification_report, f1_score, accuracy_score, confusion_matrix\n",
        "print(classification_report(pred_y,y_test))\n",
        "print(\"Accuracy \", c1.accuracy_metric(y_test,pred_y))"
      ],
      "execution_count": null,
      "outputs": [
        {
          "output_type": "stream",
          "text": [
            "              precision    recall  f1-score   support\n",
            "\n",
            "         0.0       0.18      0.42      0.25        19\n",
            "         1.0       0.82      0.58      0.68        85\n",
            "\n",
            "    accuracy                           0.55       104\n",
            "   macro avg       0.50      0.50      0.46       104\n",
            "weighted avg       0.70      0.55      0.60       104\n",
            "\n",
            "Accuracy  54.807692307692314\n"
          ],
          "name": "stdout"
        }
      ]
    },
    {
      "cell_type": "code",
      "metadata": {
        "colab": {
          "base_uri": "https://localhost:8080/",
          "height": 279
        },
        "id": "Vzkx2-HOIVfd",
        "outputId": "e103971a-383b-406f-eb45-6eb236420ebe"
      },
      "source": [
        "\n",
        "data = {'y_Actual':    y_test,\n",
        "        'y_Predicted': pred_y\n",
        "        }\n",
        "\n",
        "df = pd.DataFrame(data, columns=['y_Actual','y_Predicted'])\n",
        "confusion_matrix = pd.crosstab(df['y_Actual'], df['y_Predicted'], rownames=['Actual'], colnames=['Predicted'])\n",
        "\n",
        "sn.heatmap(confusion_matrix, annot=True)\n",
        "plt.show()"
      ],
      "execution_count": null,
      "outputs": [
        {
          "output_type": "display_data",
          "data": {
            "image/png": "[encoded data removed]",
            "text/plain": [
              "<Figure size 432x288 with 2 Axes>"
            ]
          },
          "metadata": {
            "tags": [],
            "needs_background": "light"
          }
        }
      ]
    },
    {
      "cell_type": "code",
      "metadata": {
        "colab": {
          "base_uri": "https://localhost:8080/"
        },
        "id": "tNbtowZm1ut7",
        "outputId": "c1bcc979-25f4-443f-80a4-f90e6deaca84"
      },
      "source": [
        "from sklearn.naive_bayes import GaussianNB\n",
        "gnb = GaussianNB()\n",
        "y_pred = gnb.fit(X_train, y_train).predict(X_test)\n",
        "print(classification_report(pred_y,y_test))"
      ],
      "execution_count": null,
      "outputs": [
        {
          "output_type": "stream",
          "text": [
            "              precision    recall  f1-score   support\n",
            "\n",
            "         0.0       0.18      0.42      0.25        19\n",
            "         1.0       0.82      0.58      0.68        85\n",
            "\n",
            "    accuracy                           0.55       104\n",
            "   macro avg       0.50      0.50      0.46       104\n",
            "weighted avg       0.70      0.55      0.60       104\n",
            "\n"
          ],
          "name": "stdout"
        }
      ]
    },
    {
      "cell_type": "code",
      "metadata": {
        "colab": {
          "base_uri": "https://localhost:8080/",
          "height": 283
        },
        "id": "f_q_CDrYIiFx",
        "outputId": "48143378-b165-4d20-e043-cca02ce35666"
      },
      "source": [
        "\n",
        "data = {'y_Actual':    y_test,\n",
        "        'y_Predicted': y_pred\n",
        "        }\n",
        "\n",
        "df = pd.DataFrame(data, columns=['y_Actual','y_Predicted'])\n",
        "confusion_matrix = pd.crosstab(df['y_Actual'], df['y_Predicted'], rownames=['Actual'], colnames=['Predicted'])\n",
        "\n",
        "sn.heatmap(confusion_matrix, annot=True)\n",
        "plt.show()"
      ],
      "execution_count": null,
      "outputs": [
        {
          "output_type": "display_data",
          "data": {
            "image/png": "[encoded data removed]",
            "text/plain": [
              "<Figure size 432x288 with 2 Axes>"
            ]
          },
          "metadata": {
            "tags": [],
            "needs_background": "light"
          }
        }
      ]
    },
    {
      "cell_type": "code",
      "metadata": {
        "colab": {
          "base_uri": "https://localhost:8080/"
        },
        "id": "YI8DWPiL2faV",
        "outputId": "b272709c-b1c4-43f0-9322-f190b55fc091"
      },
      "source": [
        "cv = KFold(n_splits=10)\n",
        "scores = cross_val_score(neigh, df_liv_X.values, y_liv, scoring='accuracy', cv=cv, n_jobs=-1)\n",
        "print(scores)"
      ],
      "execution_count": null,
      "outputs": [
        {
          "output_type": "stream",
          "text": [
            "[0.14285714 0.34285714 0.62857143 0.4        0.45714286 0.41176471\n",
            " 0.52941176 0.58823529 0.64705882 0.44117647]\n"
          ],
          "name": "stdout"
        }
      ]
    },
    {
      "cell_type": "code",
      "metadata": {
        "colab": {
          "base_uri": "https://localhost:8080/"
        },
        "id": "DNmpoZwJ2oF3",
        "outputId": "02e5307b-1cc1-4292-f0bc-0f6e804ab044"
      },
      "source": [
        "scores = cross_val_score(gnb, df_liv_X.values, y_liv, scoring='accuracy', cv=cv, n_jobs=-1)\n",
        "print(scores)"
      ],
      "execution_count": null,
      "outputs": [
        {
          "output_type": "stream",
          "text": [
            "[0.22857143 0.31428571 0.68571429 0.4        0.45714286 0.41176471\n",
            " 0.38235294 0.55882353 0.55882353 0.5       ]\n"
          ],
          "name": "stdout"
        }
      ]
    },
    {
      "cell_type": "markdown",
      "metadata": {
        "id": "AwkbM_aM4r-2"
      },
      "source": [
        "# Lungs Dataset"
      ]
    },
    {
      "cell_type": "code",
      "metadata": {
        "id": "XMGnVxMD2xNh"
      },
      "source": [
        "X_train, X_test, y_train, y_test = train_test_split(df_lung_X.values, y_lung, test_size=0.3, random_state=42)"
      ],
      "execution_count": null,
      "outputs": []
    },
    {
      "cell_type": "code",
      "metadata": {
        "colab": {
          "base_uri": "https://localhost:8080/"
        },
        "id": "YaihgjUC45U6",
        "outputId": "1be71e99-af4c-4d88-bfc3-a9bf7bf63968"
      },
      "source": [
        "c1 = KNN(k=7)\n",
        "c1.fit(X_train, y_train)\n",
        "pred_y = c1.predict(X_test)"
      ],
      "execution_count": null,
      "outputs": [
        {
          "output_type": "stream",
          "text": [
            "[3. 0. 0. 2. 0.]\n",
            "[2. 2. 2. 3. 0.]\n",
            "[3. 0. 0. 2. 2.]\n",
            "[2. 3. 3. 3. 2.]\n",
            "[0. 3. 2. 0. 0.]\n",
            "[2. 2. 2. 3. 2.]\n",
            "[3. 3. 2. 2. 0.]\n",
            "[3. 2. 0. 3. 0.]\n",
            "[2. 2. 2. 0. 0.]\n",
            "[0. 2. 3. 2. 0.]\n"
          ],
          "name": "stdout"
        }
      ]
    },
    {
      "cell_type": "code",
      "metadata": {
        "colab": {
          "base_uri": "https://localhost:8080/"
        },
        "id": "KNStNa4y4--G",
        "outputId": "0e48d0a7-4e03-4cfc-a8a9-ceaa79a4d3ed"
      },
      "source": [
        "from sklearn.metrics import classification_report, f1_score, accuracy_score, confusion_matrix\n",
        "print(classification_report(pred_y,y_test))\n",
        "print(\"Accuracy \", c1.accuracy_metric(y_test,pred_y))"
      ],
      "execution_count": null,
      "outputs": [
        {
          "output_type": "stream",
          "text": [
            "              precision    recall  f1-score   support\n",
            "\n",
            "         0.0       1.00      1.00      1.00         2\n",
            "         1.0       1.00      1.00      1.00         8\n",
            "\n",
            "    accuracy                           1.00        10\n",
            "   macro avg       1.00      1.00      1.00        10\n",
            "weighted avg       1.00      1.00      1.00        10\n",
            "\n",
            "Accuracy  100.0\n"
          ],
          "name": "stdout"
        }
      ]
    },
    {
      "cell_type": "code",
      "metadata": {
        "colab": {
          "base_uri": "https://localhost:8080/",
          "height": 283
        },
        "id": "1WnngsfOIx38",
        "outputId": "8119d8fd-9b57-4f40-c943-a2971daca0be"
      },
      "source": [
        "\n",
        "data = {'y_Actual':    y_test,\n",
        "        'y_Predicted': pred_y\n",
        "        }\n",
        "\n",
        "df = pd.DataFrame(data, columns=['y_Actual','y_Predicted'])\n",
        "confusion_matrix = pd.crosstab(df['y_Actual'], df['y_Predicted'], rownames=['Actual'], colnames=['Predicted'])\n",
        "\n",
        "sn.heatmap(confusion_matrix, annot=True)\n",
        "plt.show()"
      ],
      "execution_count": null,
      "outputs": [
        {
          "output_type": "display_data",
          "data": {
            "image/png": "[encoded data removed]",
            "text/plain": [
              "<Figure size 432x288 with 2 Axes>"
            ]
          },
          "metadata": {
            "tags": [],
            "needs_background": "light"
          }
        }
      ]
    },
    {
      "cell_type": "code",
      "metadata": {
        "colab": {
          "base_uri": "https://localhost:8080/"
        },
        "id": "W2wLuEew5G_4",
        "outputId": "7ed086d3-3182-485f-a126-f6ebf5ed571f"
      },
      "source": [
        "from sklearn.naive_bayes import GaussianNB\n",
        "gnb = GaussianNB()\n",
        "y_pred = gnb.fit(X_train, y_train).predict(X_test)\n",
        "print(classification_report(pred_y,y_test))"
      ],
      "execution_count": null,
      "outputs": [
        {
          "output_type": "stream",
          "text": [
            "              precision    recall  f1-score   support\n",
            "\n",
            "         0.0       1.00      1.00      1.00         2\n",
            "         1.0       1.00      1.00      1.00         8\n",
            "\n",
            "    accuracy                           1.00        10\n",
            "   macro avg       1.00      1.00      1.00        10\n",
            "weighted avg       1.00      1.00      1.00        10\n",
            "\n"
          ],
          "name": "stdout"
        }
      ]
    },
    {
      "cell_type": "code",
      "metadata": {
        "colab": {
          "base_uri": "https://localhost:8080/",
          "height": 283
        },
        "id": "8-gbjLr0I8VI",
        "outputId": "95c2bd3f-c9bf-4cb8-d1c4-48939e8d4aab"
      },
      "source": [
        "\n",
        "data = {'y_Actual':    y_test,\n",
        "        'y_Predicted': y_pred\n",
        "        }\n",
        "\n",
        "df = pd.DataFrame(data, columns=['y_Actual','y_Predicted'])\n",
        "confusion_matrix = pd.crosstab(df['y_Actual'], df['y_Predicted'], rownames=['Actual'], colnames=['Predicted'])\n",
        "\n",
        "sn.heatmap(confusion_matrix, annot=True)\n",
        "plt.show()"
      ],
      "execution_count": null,
      "outputs": [
        {
          "output_type": "display_data",
          "data": {
            "image/png": "[encoded data removed]",
            "text/plain": [
              "<Figure size 432x288 with 2 Axes>"
            ]
          },
          "metadata": {
            "tags": [],
            "needs_background": "light"
          }
        }
      ]
    },
    {
      "cell_type": "code",
      "metadata": {
        "colab": {
          "base_uri": "https://localhost:8080/"
        },
        "id": "MlQYM2fY5PN3",
        "outputId": "f3bd63d3-e349-4ac8-9b00-ad0678c2a6a5"
      },
      "source": [
        "cv = KFold(n_splits=10)\n",
        "scores = cross_val_score(neigh, df_lung_X.values, y_lung, scoring='accuracy', cv=cv, n_jobs=-1)\n",
        "print(scores)"
      ],
      "execution_count": null,
      "outputs": [
        {
          "output_type": "stream",
          "text": [
            "[1.         1.         1.         1.         0.66666667 0.66666667\n",
            " 1.         1.         0.33333333 1.        ]\n"
          ],
          "name": "stdout"
        }
      ]
    },
    {
      "cell_type": "code",
      "metadata": {
        "colab": {
          "base_uri": "https://localhost:8080/"
        },
        "id": "kTqt_w6Z5cY0",
        "outputId": "5a848c26-f60c-4261-f88c-c3f3226762c5"
      },
      "source": [
        "scores = cross_val_score(gnb, df_lung_X.values, y_lung, scoring='accuracy', cv=cv, n_jobs=-1)\n",
        "print(scores)"
      ],
      "execution_count": null,
      "outputs": [
        {
          "output_type": "stream",
          "text": [
            "[1.         1.         1.         1.         0.66666667 0.66666667\n",
            " 1.         1.         0.         0.66666667]\n"
          ],
          "name": "stdout"
        }
      ]
    },
    {
      "cell_type": "markdown",
      "metadata": {
        "id": "3ie_arls6PKd"
      },
      "source": [
        "# Hepatitis Dataset"
      ]
    },
    {
      "cell_type": "code",
      "metadata": {
        "id": "PP0jAX_T5mUK"
      },
      "source": [
        "X_train, X_test, y_train, y_test = train_test_split(df_hepati_X.values, y_hepati, test_size=0.3, random_state=42)"
      ],
      "execution_count": null,
      "outputs": []
    },
    {
      "cell_type": "code",
      "metadata": {
        "colab": {
          "base_uri": "https://localhost:8080/"
        },
        "id": "NtocYwGH6ZyI",
        "outputId": "91f5fc6d-7f77-4f62-b848-bdf8ed7a09fe"
      },
      "source": [
        "c1 = KNN(k=7)\n",
        "c1.fit(X_train, y_train)\n",
        "pred_y = c1.predict(X_test)"
      ],
      "execution_count": null,
      "outputs": [
        {
          "output_type": "stream",
          "text": [
            "[3. 1. 0. 3. 3. 3. 3. 3. 3. 3. 3. 3. 0. 1. 1.]\n",
            "[3. 2. 0. 3. 3. 0. 3. 0. 0. 0. 3. 0. 0. 0. 0.]\n",
            "[0. 3. 0. 0. 3. 0. 3. 3. 3. 3. 3. 3. 0. 0. 1.]\n",
            "[3. 2. 0. 0. 0. 0. 3. 3. 3. 3. 3. 3. 0. 0. 2.]\n",
            "[0. 3. 0. 0. 3. 0. 3. 3. 3. 0. 3. 3. 0. 0. 1.]\n",
            "[3. 1. 0. 3. 3. 3. 3. 3. 3. 3. 3. 3. 0. 0. 2.]\n",
            "[3. 2. 0. 0. 3. 3. 3. 3. 3. 3. 3. 3. 0. 0. 0.]\n",
            "[0. 3. 0. 0. 3. 0. 0. 3. 3. 3. 3. 3. 0. 3. 0.]\n",
            "[3. 2. 3. 0. 3. 0. 3. 3. 0. 0. 3. 0. 0. 0. 1.]\n",
            "[3. 1. 0. 3. 3. 0. 3. 3. 3. 3. 3. 3. 0. 0. 1.]\n",
            "[3. 1. 0. 3. 3. 3. 3. 3. 3. 3. 3. 3. 0. 0. 2.]\n",
            "[0. 2. 0. 3. 3. 0. 3. 0. 3. 0. 0. 0. 0. 0. 0.]\n",
            "[3. 1. 0. 0. 3. 0. 3. 0. 3. 0. 3. 3. 0. 0. 2.]\n",
            "[3. 1. 0. 0. 0. 0. 3. 3. 3. 3. 3. 3. 0. 0. 1.]\n",
            "[3. 1. 0. 0. 3. 0. 0. 3. 3. 3. 0. 3. 0. 0. 0.]\n",
            "[3. 1. 0. 0. 0. 3. 3. 0. 3. 3. 3. 3. 0. 0. 1.]\n",
            "[0. 1. 0. 0. 0. 0. 3. 0. 3. 3. 3. 3. 1. 0. 1.]\n",
            "[3. 2. 3. 0. 3. 0. 3. 0. 0. 0. 3. 3. 0. 0. 1.]\n",
            "[3. 2. 0. 3. 3. 3. 3. 3. 3. 3. 3. 3. 0. 0. 1.]\n",
            "[3. 1. 0. 3. 3. 3. 3. 0. 3. 0. 3. 0. 0. 0. 1.]\n",
            "[3. 1. 0. 3. 3. 3. 3. 3. 3. 3. 3. 3. 0. 0. 1.]\n",
            "[3. 1. 0. 3. 0. 0. 3. 0. 3. 3. 3. 3. 0. 0. 1.]\n",
            "[3. 1. 0. 3. 3. 3. 3. 3. 3. 3. 3. 3. 0. 0. 1.]\n",
            "[3. 1. 3. 0. 0. 3. 3. 3. 3. 3. 3. 3. 0. 0. 2.]\n",
            "[3. 2. 0. 0. 3. 0. 3. 3. 3. 3. 3. 3. 0. 0. 1.]\n",
            "[0. 1. 0. 0. 3. 0. 0. 3. 0. 3. 3. 3. 3. 0. 0.]\n",
            "[3. 1. 0. 0. 0. 0. 0. 0. 3. 3. 3. 3. 0. 0. 1.]\n",
            "[3. 1. 0. 3. 3. 0. 3. 3. 3. 3. 3. 3. 0. 0. 2.]\n",
            "[0. 2. 0. 0. 3. 0. 3. 3. 0. 3. 3. 0. 0. 0. 1.]\n",
            "[3. 3. 3. 3. 3. 0. 3. 0. 3. 0. 3. 3. 0. 0. 1.]\n",
            "[3. 1. 0. 3. 3. 0. 0. 3. 3. 0. 0. 3. 0. 0. 1.]\n",
            "[3. 1. 0. 0. 3. 0. 3. 0. 3. 0. 3. 3. 0. 0. 1.]\n",
            "[3. 1. 0. 3. 3. 3. 3. 3. 0. 3. 3. 3. 0. 0. 1.]\n",
            "[3. 1. 0. 0. 3. 3. 3. 3. 3. 3. 3. 3. 0. 0. 1.]\n",
            "[0. 1. 0. 0. 3. 0. 3. 3. 3. 3. 0. 3. 0. 0. 0.]\n",
            "[3. 1. 0. 3. 3. 3. 3. 3. 3. 3. 3. 3. 0. 0. 1.]\n",
            "[3. 1. 0. 3. 3. 3. 3. 3. 3. 3. 3. 3. 0. 0. 1.]\n",
            "[3. 2. 0. 0. 0. 0. 0. 0. 3. 0. 3. 3. 0. 0. 1.]\n",
            "[3. 3. 0. 3. 0. 0. 3. 0. 3. 3. 3. 3. 0. 0. 1.]\n",
            "[0. 2. 0. 3. 3. 0. 3. 0. 0. 0. 3. 3. 0. 1. 1.]\n",
            "[3. 1. 0. 0. 3. 0. 3. 3. 3. 3. 3. 3. 0. 0. 1.]\n",
            "[3. 0. 0. 3. 3. 0. 0. 3. 0. 3. 3. 3. 0. 0. 1.]\n",
            "[3. 2. 0. 3. 3. 3. 3. 0. 0. 0. 3. 3. 0. 0. 1.]\n",
            "[3. 1. 0. 3. 3. 3. 3. 3. 3. 3. 3. 3. 0. 0. 1.]\n",
            "[3. 1. 0. 0. 3. 0. 0. 3. 3. 3. 3. 3. 0. 0. 1.]\n",
            "[3. 1. 0. 0. 3. 0. 0. 0. 3. 3. 3. 3. 0. 0. 1.]\n",
            "[3. 1. 0. 3. 0. 0. 3. 0. 3. 0. 3. 3. 0. 1. 1.]\n"
          ],
          "name": "stdout"
        }
      ]
    },
    {
      "cell_type": "markdown",
      "metadata": {
        "id": "LsOdymiQ2yEq"
      },
      "source": [
        "##### Accuracy KNN *Hepatitis*"
      ]
    },
    {
      "cell_type": "code",
      "metadata": {
        "colab": {
          "base_uri": "https://localhost:8080/"
        },
        "id": "jL-UZ83b6b7H",
        "outputId": "2d2be616-0541-4b23-9998-6e62d890614d"
      },
      "source": [
        "from sklearn.metrics import classification_report, f1_score, accuracy_score, confusion_matrix\n",
        "print(classification_report(pred_y,y_test))\n",
        "print(\"Accuracy \", c1.accuracy_metric(y_test,pred_y))"
      ],
      "execution_count": null,
      "outputs": [
        {
          "output_type": "stream",
          "text": [
            "              precision    recall  f1-score   support\n",
            "\n",
            "         0.0       0.75      0.72      0.74        29\n",
            "         1.0       0.58      0.61      0.59        18\n",
            "\n",
            "    accuracy                           0.68        47\n",
            "   macro avg       0.66      0.67      0.67        47\n",
            "weighted avg       0.68      0.68      0.68        47\n",
            "\n",
            "Accuracy  68.08510638297872\n"
          ],
          "name": "stdout"
        }
      ]
    },
    {
      "cell_type": "code",
      "metadata": {
        "colab": {
          "base_uri": "https://localhost:8080/",
          "height": 279
        },
        "id": "kzkLbd2HJRCZ",
        "outputId": "1b292c94-c48d-438c-a4a9-d2fe6f79f900"
      },
      "source": [
        "\n",
        "data = {'y_Actual':    y_test,\n",
        "        'y_Predicted': pred_y\n",
        "        }\n",
        "\n",
        "df = pd.DataFrame(data, columns=['y_Actual','y_Predicted'])\n",
        "confusion_matrix = pd.crosstab(df['y_Actual'], df['y_Predicted'], rownames=['Actual'], colnames=['Predicted'])\n",
        "\n",
        "sn.heatmap(confusion_matrix, annot=True)\n",
        "plt.show()"
      ],
      "execution_count": null,
      "outputs": [
        {
          "output_type": "display_data",
          "data": {
            "image/png": "[encoded data removed]",
            "text/plain": [
              "<Figure size 432x288 with 2 Axes>"
            ]
          },
          "metadata": {
            "tags": [],
            "needs_background": "light"
          }
        }
      ]
    },
    {
      "cell_type": "markdown",
      "metadata": {
        "id": "F4adhXMu24Gi"
      },
      "source": [
        "##### Accuracy Naive Bayes Hepatitis"
      ]
    },
    {
      "cell_type": "code",
      "metadata": {
        "colab": {
          "base_uri": "https://localhost:8080/"
        },
        "id": "FV8xZ9SE6er9",
        "outputId": "8ab0ae9d-340b-4dc8-a59f-4304a9539e7a"
      },
      "source": [
        "from sklearn.naive_bayes import GaussianNB\n",
        "gnb = GaussianNB()\n",
        "y_pred = gnb.fit(X_train, y_train).predict(X_test)\n",
        "print(classification_report(pred_y,y_test))"
      ],
      "execution_count": null,
      "outputs": [
        {
          "output_type": "stream",
          "text": [
            "              precision    recall  f1-score   support\n",
            "\n",
            "         0.0       0.75      0.72      0.74        29\n",
            "         1.0       0.58      0.61      0.59        18\n",
            "\n",
            "    accuracy                           0.68        47\n",
            "   macro avg       0.66      0.67      0.67        47\n",
            "weighted avg       0.68      0.68      0.68        47\n",
            "\n"
          ],
          "name": "stdout"
        }
      ]
    },
    {
      "cell_type": "code",
      "metadata": {
        "colab": {
          "base_uri": "https://localhost:8080/",
          "height": 283
        },
        "id": "vNF3vBWyJFI6",
        "outputId": "5a335066-1825-43ac-c25b-dfa288a6b559"
      },
      "source": [
        "\n",
        "data = {'y_Actual':    y_test,\n",
        "        'y_Predicted': y_pred\n",
        "        }\n",
        "\n",
        "df = pd.DataFrame(data, columns=['y_Actual','y_Predicted'])\n",
        "confusion_matrix = pd.crosstab(df['y_Actual'], df['y_Predicted'], rownames=['Actual'], colnames=['Predicted'])\n",
        "\n",
        "sn.heatmap(confusion_matrix, annot=True)\n",
        "plt.show()"
      ],
      "execution_count": null,
      "outputs": [
        {
          "output_type": "display_data",
          "data": {
            "image/png": "[encoded data removed]",
            "text/plain": [
              "<Figure size 432x288 with 2 Axes>"
            ]
          },
          "metadata": {
            "tags": [],
            "needs_background": "light"
          }
        }
      ]
    },
    {
      "cell_type": "code",
      "metadata": {
        "colab": {
          "base_uri": "https://localhost:8080/"
        },
        "id": "HZysOeb36h_2",
        "outputId": "4f5f2741-e98e-4644-a735-c275b7bb00ed"
      },
      "source": [
        "cv = KFold(n_splits=10)\n",
        "scores = cross_val_score(neigh, df_hepati_X.values, y_hepati, scoring='accuracy', cv=cv, n_jobs=-1)\n",
        "print(scores)"
      ],
      "execution_count": null,
      "outputs": [
        {
          "output_type": "stream",
          "text": [
            "[0.875      0.5625     0.9375     0.75       0.75       0.66666667\n",
            " 0.4        0.26666667 0.4        0.66666667]\n"
          ],
          "name": "stdout"
        }
      ]
    },
    {
      "cell_type": "code",
      "metadata": {
        "colab": {
          "base_uri": "https://localhost:8080/"
        },
        "id": "gWG38Zbj6kzJ",
        "outputId": "dac2705b-5494-40e9-bb1d-b1f030846cc9"
      },
      "source": [
        "scores = cross_val_score(gnb, df_hepati_X.values, y_hepati, scoring='accuracy', cv=cv, n_jobs=-1)\n",
        "print(scores)"
      ],
      "execution_count": null,
      "outputs": [
        {
          "output_type": "stream",
          "text": [
            "[0.875      0.75       0.8125     0.9375     0.8125     0.73333333\n",
            " 0.6        0.26666667 0.66666667 0.66666667]\n"
          ],
          "name": "stdout"
        }
      ]
    },
    {
      "cell_type": "code",
      "metadata": {
        "colab": {
          "base_uri": "https://localhost:8080/",
          "height": 323
        },
        "id": "v0-_x8gM6rzk",
        "outputId": "13e5f1cb-0065-4fc0-9982-091b7bcb7709"
      },
      "source": [
        ""
      ],
      "execution_count": null,
      "outputs": [
        {
          "output_type": "stream",
          "text": [
            "Collecting pandas_ml\n",
            "\u001b[?25l  Downloading https://files.pythonhosted.org/packages/ae/72/6d90debfcb9ea74ec00927fa7ed0204dcc560b1f9ffcd8b239daa7fd106d/pandas_ml-0.6.1-py3-none-any.whl (100kB)\n",
            "\r\u001b[K     |███▎                            | 10kB 18.2MB/s eta 0:00:01\r\u001b[K     |██████▌                         | 20kB 23.8MB/s eta 0:00:01\r\u001b[K     |█████████▉                      | 30kB 12.4MB/s eta 0:00:01\r\u001b[K     |█████████████                   | 40kB 9.5MB/s eta 0:00:01\r\u001b[K     |████████████████▍               | 51kB 8.1MB/s eta 0:00:01\r\u001b[K     |███████████████████▋            | 61kB 7.7MB/s eta 0:00:01\r\u001b[K     |██████████████████████▉         | 71kB 8.8MB/s eta 0:00:01\r\u001b[K     |██████████████████████████▏     | 81kB 9.4MB/s eta 0:00:01\r\u001b[K     |█████████████████████████████▍  | 92kB 8.2MB/s eta 0:00:01\r\u001b[K     |████████████████████████████████| 102kB 5.8MB/s \n",
            "\u001b[?25hRequirement already satisfied: pandas>=0.19.0 in /usr/local/lib/python3.6/dist-packages (from pandas_ml) (1.1.5)\n",
            "Collecting enum34\n",
            "  Downloading https://files.pythonhosted.org/packages/63/f6/ccb1c83687756aeabbf3ca0f213508fcfb03883ff200d201b3a4c60cedcc/enum34-1.1.10-py3-none-any.whl\n",
            "Requirement already satisfied: numpy>=1.15.4 in /usr/local/lib/python3.6/dist-packages (from pandas>=0.19.0->pandas_ml) (1.19.4)\n",
            "Requirement already satisfied: python-dateutil>=2.7.3 in /usr/local/lib/python3.6/dist-packages (from pandas>=0.19.0->pandas_ml) (2.8.1)\n",
            "Requirement already satisfied: pytz>=2017.2 in /usr/local/lib/python3.6/dist-packages (from pandas>=0.19.0->pandas_ml) (2018.9)\n",
            "Requirement already satisfied: six>=1.5 in /usr/local/lib/python3.6/dist-packages (from python-dateutil>=2.7.3->pandas>=0.19.0->pandas_ml) (1.15.0)\n",
            "Installing collected packages: enum34, pandas-ml\n",
            "Successfully installed enum34-1.1.10 pandas-ml-0.6.1\n"
          ],
          "name": "stdout"
        },
        {
          "output_type": "display_data",
          "data": {
            "application/vnd.colab-display-data+json": {
              "pip_warning": {
                "packages": [
                  "enum"
                ]
              }
            }
          },
          "metadata": {
            "tags": []
          }
        }
      ]
    }
  ]
}